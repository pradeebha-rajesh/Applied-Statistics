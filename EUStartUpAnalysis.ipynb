{
 "cells": [
  {
   "cell_type": "markdown",
   "metadata": {},
   "source": [
    "• DOMAIN: \n",
    "    Startup ecosystem\n",
    "    \n",
    "• CONTEXT: \n",
    "Company X is a EU online publisher focusing on the startups industry. The company specifically reports on the business related to technology news, analysis of emerging trends and profiling of new tech businesses and products. Their event i.e. Startup Battlefield is the world’s pre-eminent startup competition. Startup Battlefield features 15-30 top early stage startups pitching top judges in front of a vast live audience, present in person and online.\n",
    "\n",
    "• DATA DESCRIPTION: CompanyX_EU.csv - Each row in the dataset is a Start-up company and the columns describe the company. ATTRIBUTE\n",
    "INFORMATION:\n",
    "1. Startup: Name of the company\n",
    "2. Product: Actual product\n",
    "3. Funding: Funds raised by the company in USD\n",
    "4. Event: The event the company participated in\n",
    "5. Result: Described by Contestant, Finalist, Audience choice, Winner or Runner up\n",
    "6. OperatingState: Current status of the company, Operating ,Closed, Acquired or IPO\n",
    "*Dataset has been downloaded from the internet. All the credit for the dataset goes to the original creator of the data.\n",
    "• PROJECT OBJECTIVE: Analyse the data of the various companies from the given dataset and perform the tasks that are specified in the\n",
    "below steps. Draw insights from the various attributes that are present in the dataset, plot distributions, state hypotheses and draw\n",
    "conclusions from the dataset.\n",
    "Steps and tasks: [ Total Score: 30 points]\n",
    "1. Data warehouse:\n",
    "    • Read the CSV file.\n",
    "2. Data exploration:\n",
    "    • Check the datatypes of each attribute.\n",
    "    • Check for null values in the attributes.\n",
    "3. Data preprocessing & visualisation:\n",
    "    • Drop the null values.\n",
    "    • Convert the ‘Funding’ features to a numerical value.\n",
    "    • Plot box plot for funds in million.\n",
    "    • Get the lower fence from the box plot.\n",
    "    • Check number of outliers greater than upper fence.\n",
    "    • Drop the values that are greater than upper fence.\n",
    "    • Plot the box plot after dropping the values.\n",
    "    • Check frequency of the OperatingState features classes.\n",
    "    • Plot a distribution plot for Funds in million.\n",
    "    • Plot distribution plots for companies still operating and companies that closed.\n",
    "4. Statistical analysis:\n",
    "    • Is there any significant difference between Funds raised by companies that are still operating vs companies that closed down?\n",
    "        Write the null hypothesis and alternative hypothesis.\n",
    "        Test for significance and conclusion\n",
    "    • Make a copy of the original data frame.\n",
    "    • Check frequency distribution of Result variable.\n",
    "    • Calculate percentage of winners that are still operating and percentage of contestants that are still operating\n",
    "    • Write your hypothesis comparing the proportion of companies that are operating between winners and contestants\n",
    "         Write the null hypothesis and alternative hypothesis.\n",
    "         Test for significance and conclusion\n",
    "    • Check distribution of the Event variable.\n",
    "    • Select only the Event that has disrupt keyword from 2013 onwards.\n",
    "    • Write and perform your hypothesis along with significance test comparing the funds raised by companies across NY, SF and EU events from 2013 onwards.\n",
    "    • Plot the distribution plot comparing the 3 city events.\n",
    "5. Write your observations on improvements or suggestions on quality, quantity, variety, velocity, veracity etc. on the data points collected to perform a better data analysis"
   ]
  },
  {
   "cell_type": "markdown",
   "metadata": {},
   "source": [
    "# STEPS INVOLVED IN THE CASE STUDY\n",
    "\n",
    "1.Data acquisition\n",
    "\n",
    "2.Data glancing\n",
    "\n",
    "Getting a high-level idea about the data, dimensions\n",
    "\n",
    "3.EDA\n",
    "\n",
    "    Univariate -datatype,Describe,Measures of central tendency,Measure of dispersion,IQR,Plots (Histogram),Missing values,Outliers\n",
    "\n",
    "    Bivariate\n",
    "\n",
    "    Multivariate\n",
    "\n",
    "4.Analysis\n",
    "\n",
    "5.Summary and Findings"
   ]
  },
  {
   "cell_type": "markdown",
   "metadata": {},
   "source": [
    "# Import the libraries"
   ]
  },
  {
   "cell_type": "code",
   "execution_count": 45,
   "metadata": {},
   "outputs": [],
   "source": [
    "import pandas as pd\n",
    "import numpy as np\n",
    "from matplotlib import pyplot as plt\n",
    "import seaborn as sns\n",
    "\n",
    "%matplotlib inline"
   ]
  },
  {
   "cell_type": "markdown",
   "metadata": {},
   "source": [
    "# Import the dataset\n",
    "\n",
    "1. Importing the dataset and reading the csv file"
   ]
  },
  {
   "cell_type": "code",
   "execution_count": 46,
   "metadata": {},
   "outputs": [
    {
     "name": "stdout",
     "output_type": "stream",
     "text": [
      "(662, 6)\n"
     ]
    },
    {
     "data": {
      "text/html": [
       "<div>\n",
       "<style scoped>\n",
       "    .dataframe tbody tr th:only-of-type {\n",
       "        vertical-align: middle;\n",
       "    }\n",
       "\n",
       "    .dataframe tbody tr th {\n",
       "        vertical-align: top;\n",
       "    }\n",
       "\n",
       "    .dataframe thead th {\n",
       "        text-align: right;\n",
       "    }\n",
       "</style>\n",
       "<table border=\"1\" class=\"dataframe\">\n",
       "  <thead>\n",
       "    <tr style=\"text-align: right;\">\n",
       "      <th></th>\n",
       "      <th>Startup</th>\n",
       "      <th>Product</th>\n",
       "      <th>Funding</th>\n",
       "      <th>Event</th>\n",
       "      <th>Result</th>\n",
       "      <th>OperatingState</th>\n",
       "    </tr>\n",
       "  </thead>\n",
       "  <tbody>\n",
       "    <tr>\n",
       "      <th>0</th>\n",
       "      <td>2600Hz</td>\n",
       "      <td>2600hz.com</td>\n",
       "      <td>NaN</td>\n",
       "      <td>Disrupt SF 2013</td>\n",
       "      <td>Contestant</td>\n",
       "      <td>Operating</td>\n",
       "    </tr>\n",
       "    <tr>\n",
       "      <th>1</th>\n",
       "      <td>3DLT</td>\n",
       "      <td>3dlt.com</td>\n",
       "      <td>$630K</td>\n",
       "      <td>Disrupt NYC 2013</td>\n",
       "      <td>Contestant</td>\n",
       "      <td>Closed</td>\n",
       "    </tr>\n",
       "    <tr>\n",
       "      <th>2</th>\n",
       "      <td>3DPrinterOS</td>\n",
       "      <td>3dprinteros.com</td>\n",
       "      <td>NaN</td>\n",
       "      <td>Disrupt SF 2016</td>\n",
       "      <td>Contestant</td>\n",
       "      <td>Operating</td>\n",
       "    </tr>\n",
       "    <tr>\n",
       "      <th>3</th>\n",
       "      <td>3Dprintler</td>\n",
       "      <td>3dprintler.com</td>\n",
       "      <td>$1M</td>\n",
       "      <td>Disrupt NY 2016</td>\n",
       "      <td>Audience choice</td>\n",
       "      <td>Operating</td>\n",
       "    </tr>\n",
       "    <tr>\n",
       "      <th>4</th>\n",
       "      <td>42 Technologies</td>\n",
       "      <td>42technologies.com</td>\n",
       "      <td>NaN</td>\n",
       "      <td>Disrupt NYC 2013</td>\n",
       "      <td>Contestant</td>\n",
       "      <td>Operating</td>\n",
       "    </tr>\n",
       "  </tbody>\n",
       "</table>\n",
       "</div>"
      ],
      "text/plain": [
       "           Startup             Product Funding             Event  \\\n",
       "0           2600Hz          2600hz.com     NaN   Disrupt SF 2013   \n",
       "1             3DLT            3dlt.com   $630K  Disrupt NYC 2013   \n",
       "2      3DPrinterOS     3dprinteros.com     NaN   Disrupt SF 2016   \n",
       "3       3Dprintler      3dprintler.com     $1M   Disrupt NY 2016   \n",
       "4  42 Technologies  42technologies.com     NaN  Disrupt NYC 2013   \n",
       "\n",
       "            Result OperatingState  \n",
       "0       Contestant      Operating  \n",
       "1       Contestant         Closed  \n",
       "2       Contestant      Operating  \n",
       "3  Audience choice      Operating  \n",
       "4       Contestant      Operating  "
      ]
     },
     "execution_count": 46,
     "metadata": {},
     "output_type": "execute_result"
    }
   ],
   "source": [
    "compdata = pd.read_csv('CompanyX_EU.csv')\n",
    "#new_compdata = compdata.copy()\n",
    "print(compdata.shape)\n",
    "compdata.head()"
   ]
  },
  {
   "cell_type": "markdown",
   "metadata": {},
   "source": [
    "# Data Exploration\n",
    "1. Checking for data types and any null values"
   ]
  },
  {
   "cell_type": "code",
   "execution_count": 47,
   "metadata": {},
   "outputs": [
    {
     "data": {
      "text/plain": [
       "Startup           object\n",
       "Product           object\n",
       "Funding           object\n",
       "Event             object\n",
       "Result            object\n",
       "OperatingState    object\n",
       "dtype: object"
      ]
     },
     "execution_count": 47,
     "metadata": {},
     "output_type": "execute_result"
    }
   ],
   "source": [
    "compdata.dtypes"
   ]
  },
  {
   "cell_type": "code",
   "execution_count": 48,
   "metadata": {},
   "outputs": [
    {
     "data": {
      "text/html": [
       "<div>\n",
       "<style scoped>\n",
       "    .dataframe tbody tr th:only-of-type {\n",
       "        vertical-align: middle;\n",
       "    }\n",
       "\n",
       "    .dataframe tbody tr th {\n",
       "        vertical-align: top;\n",
       "    }\n",
       "\n",
       "    .dataframe thead th {\n",
       "        text-align: right;\n",
       "    }\n",
       "</style>\n",
       "<table border=\"1\" class=\"dataframe\">\n",
       "  <thead>\n",
       "    <tr style=\"text-align: right;\">\n",
       "      <th></th>\n",
       "      <th>Startup</th>\n",
       "      <th>Product</th>\n",
       "      <th>Funding</th>\n",
       "      <th>Event</th>\n",
       "      <th>Result</th>\n",
       "      <th>OperatingState</th>\n",
       "    </tr>\n",
       "  </thead>\n",
       "  <tbody>\n",
       "    <tr>\n",
       "      <th>0</th>\n",
       "      <td>False</td>\n",
       "      <td>False</td>\n",
       "      <td>True</td>\n",
       "      <td>False</td>\n",
       "      <td>False</td>\n",
       "      <td>False</td>\n",
       "    </tr>\n",
       "    <tr>\n",
       "      <th>1</th>\n",
       "      <td>False</td>\n",
       "      <td>False</td>\n",
       "      <td>False</td>\n",
       "      <td>False</td>\n",
       "      <td>False</td>\n",
       "      <td>False</td>\n",
       "    </tr>\n",
       "    <tr>\n",
       "      <th>2</th>\n",
       "      <td>False</td>\n",
       "      <td>False</td>\n",
       "      <td>True</td>\n",
       "      <td>False</td>\n",
       "      <td>False</td>\n",
       "      <td>False</td>\n",
       "    </tr>\n",
       "    <tr>\n",
       "      <th>3</th>\n",
       "      <td>False</td>\n",
       "      <td>False</td>\n",
       "      <td>False</td>\n",
       "      <td>False</td>\n",
       "      <td>False</td>\n",
       "      <td>False</td>\n",
       "    </tr>\n",
       "    <tr>\n",
       "      <th>4</th>\n",
       "      <td>False</td>\n",
       "      <td>False</td>\n",
       "      <td>True</td>\n",
       "      <td>False</td>\n",
       "      <td>False</td>\n",
       "      <td>False</td>\n",
       "    </tr>\n",
       "    <tr>\n",
       "      <th>...</th>\n",
       "      <td>...</td>\n",
       "      <td>...</td>\n",
       "      <td>...</td>\n",
       "      <td>...</td>\n",
       "      <td>...</td>\n",
       "      <td>...</td>\n",
       "    </tr>\n",
       "    <tr>\n",
       "      <th>657</th>\n",
       "      <td>False</td>\n",
       "      <td>False</td>\n",
       "      <td>False</td>\n",
       "      <td>False</td>\n",
       "      <td>False</td>\n",
       "      <td>False</td>\n",
       "    </tr>\n",
       "    <tr>\n",
       "      <th>658</th>\n",
       "      <td>False</td>\n",
       "      <td>False</td>\n",
       "      <td>False</td>\n",
       "      <td>False</td>\n",
       "      <td>False</td>\n",
       "      <td>False</td>\n",
       "    </tr>\n",
       "    <tr>\n",
       "      <th>659</th>\n",
       "      <td>False</td>\n",
       "      <td>False</td>\n",
       "      <td>False</td>\n",
       "      <td>False</td>\n",
       "      <td>False</td>\n",
       "      <td>False</td>\n",
       "    </tr>\n",
       "    <tr>\n",
       "      <th>660</th>\n",
       "      <td>False</td>\n",
       "      <td>False</td>\n",
       "      <td>False</td>\n",
       "      <td>False</td>\n",
       "      <td>False</td>\n",
       "      <td>False</td>\n",
       "    </tr>\n",
       "    <tr>\n",
       "      <th>661</th>\n",
       "      <td>False</td>\n",
       "      <td>False</td>\n",
       "      <td>False</td>\n",
       "      <td>False</td>\n",
       "      <td>False</td>\n",
       "      <td>False</td>\n",
       "    </tr>\n",
       "  </tbody>\n",
       "</table>\n",
       "<p>662 rows × 6 columns</p>\n",
       "</div>"
      ],
      "text/plain": [
       "     Startup  Product  Funding  Event  Result  OperatingState\n",
       "0      False    False     True  False   False           False\n",
       "1      False    False    False  False   False           False\n",
       "2      False    False     True  False   False           False\n",
       "3      False    False    False  False   False           False\n",
       "4      False    False     True  False   False           False\n",
       "..       ...      ...      ...    ...     ...             ...\n",
       "657    False    False    False  False   False           False\n",
       "658    False    False    False  False   False           False\n",
       "659    False    False    False  False   False           False\n",
       "660    False    False    False  False   False           False\n",
       "661    False    False    False  False   False           False\n",
       "\n",
       "[662 rows x 6 columns]"
      ]
     },
     "execution_count": 48,
     "metadata": {},
     "output_type": "execute_result"
    }
   ],
   "source": [
    "# Checking for null values\n",
    "\n",
    "compdata.isnull()"
   ]
  },
  {
   "cell_type": "markdown",
   "metadata": {},
   "source": [
    "So, turns out that there are few columns in which the funding is not in numeric as the datatype returned as object.\n",
    "\n",
    "Also, there are many null values in the given dataset.\n",
    "\n",
    "Hence, before proceeding we need to drop the nullvalue as part of clean-up of data"
   ]
  },
  {
   "cell_type": "markdown",
   "metadata": {},
   "source": [
    "# Data Pre-processing"
   ]
  },
  {
   "cell_type": "markdown",
   "metadata": {},
   "source": [
    "# We need to drop all rows where Funding is null"
   ]
  },
  {
   "cell_type": "code",
   "execution_count": 49,
   "metadata": {},
   "outputs": [
    {
     "name": "stdout",
     "output_type": "stream",
     "text": [
      "          Startup          Product Funding                      Event  \\\n",
      "1            3DLT         3dlt.com   $630K           Disrupt NYC 2013   \n",
      "3      3Dprintler   3dprintler.com     $1M            Disrupt NY 2016   \n",
      "5            5to1         5to1.com  $19.3M                  TC50 2009   \n",
      "6    8 Securities  8securities.com    $29M       Disrupt Beijing 2011   \n",
      "10     AdhereTech   adheretech.com   $1.8M  Hardware Battlefield 2014   \n",
      "..            ...              ...     ...                        ...   \n",
      "657        Zivity       zivity.com     $8M                  TC40 2007   \n",
      "658        Zmorph     zmorph3d.com     $1M                          -   \n",
      "659        Zocdoc       zocdoc.com   $223M                  TC40 2007   \n",
      "660          Zula      zulaapp.com   $3.4M            Disrupt SF 2013   \n",
      "661        Zumper       zumper.com  $31.5M            Disrupt SF 2012   \n",
      "\n",
      "              Result OperatingState  \n",
      "1         Contestant         Closed  \n",
      "3    Audience choice      Operating  \n",
      "5         Contestant       Acquired  \n",
      "6           Finalist      Operating  \n",
      "10        Contestant      Operating  \n",
      "..               ...            ...  \n",
      "657       Contestant      Operating  \n",
      "658  Audience choice      Operating  \n",
      "659       Contestant      Operating  \n",
      "660  Audience choice      Operating  \n",
      "661         Finalist      Operating  \n",
      "\n",
      "[446 rows x 6 columns]\n"
     ]
    }
   ],
   "source": [
    "compdata.dropna(axis=0, how=\"any\", thresh=None, subset=None, inplace=True)\n",
    "\n",
    "print(compdata)"
   ]
  },
  {
   "cell_type": "code",
   "execution_count": 50,
   "metadata": {},
   "outputs": [
    {
     "data": {
      "text/html": [
       "<div>\n",
       "<style scoped>\n",
       "    .dataframe tbody tr th:only-of-type {\n",
       "        vertical-align: middle;\n",
       "    }\n",
       "\n",
       "    .dataframe tbody tr th {\n",
       "        vertical-align: top;\n",
       "    }\n",
       "\n",
       "    .dataframe thead th {\n",
       "        text-align: right;\n",
       "    }\n",
       "</style>\n",
       "<table border=\"1\" class=\"dataframe\">\n",
       "  <thead>\n",
       "    <tr style=\"text-align: right;\">\n",
       "      <th></th>\n",
       "      <th>Startup</th>\n",
       "      <th>Product</th>\n",
       "      <th>Funding</th>\n",
       "      <th>Event</th>\n",
       "      <th>Result</th>\n",
       "      <th>OperatingState</th>\n",
       "    </tr>\n",
       "  </thead>\n",
       "  <tbody>\n",
       "    <tr>\n",
       "      <th>1</th>\n",
       "      <td>False</td>\n",
       "      <td>False</td>\n",
       "      <td>False</td>\n",
       "      <td>False</td>\n",
       "      <td>False</td>\n",
       "      <td>False</td>\n",
       "    </tr>\n",
       "    <tr>\n",
       "      <th>3</th>\n",
       "      <td>False</td>\n",
       "      <td>False</td>\n",
       "      <td>False</td>\n",
       "      <td>False</td>\n",
       "      <td>False</td>\n",
       "      <td>False</td>\n",
       "    </tr>\n",
       "    <tr>\n",
       "      <th>5</th>\n",
       "      <td>False</td>\n",
       "      <td>False</td>\n",
       "      <td>False</td>\n",
       "      <td>False</td>\n",
       "      <td>False</td>\n",
       "      <td>False</td>\n",
       "    </tr>\n",
       "    <tr>\n",
       "      <th>6</th>\n",
       "      <td>False</td>\n",
       "      <td>False</td>\n",
       "      <td>False</td>\n",
       "      <td>False</td>\n",
       "      <td>False</td>\n",
       "      <td>False</td>\n",
       "    </tr>\n",
       "    <tr>\n",
       "      <th>10</th>\n",
       "      <td>False</td>\n",
       "      <td>False</td>\n",
       "      <td>False</td>\n",
       "      <td>False</td>\n",
       "      <td>False</td>\n",
       "      <td>False</td>\n",
       "    </tr>\n",
       "    <tr>\n",
       "      <th>...</th>\n",
       "      <td>...</td>\n",
       "      <td>...</td>\n",
       "      <td>...</td>\n",
       "      <td>...</td>\n",
       "      <td>...</td>\n",
       "      <td>...</td>\n",
       "    </tr>\n",
       "    <tr>\n",
       "      <th>657</th>\n",
       "      <td>False</td>\n",
       "      <td>False</td>\n",
       "      <td>False</td>\n",
       "      <td>False</td>\n",
       "      <td>False</td>\n",
       "      <td>False</td>\n",
       "    </tr>\n",
       "    <tr>\n",
       "      <th>658</th>\n",
       "      <td>False</td>\n",
       "      <td>False</td>\n",
       "      <td>False</td>\n",
       "      <td>False</td>\n",
       "      <td>False</td>\n",
       "      <td>False</td>\n",
       "    </tr>\n",
       "    <tr>\n",
       "      <th>659</th>\n",
       "      <td>False</td>\n",
       "      <td>False</td>\n",
       "      <td>False</td>\n",
       "      <td>False</td>\n",
       "      <td>False</td>\n",
       "      <td>False</td>\n",
       "    </tr>\n",
       "    <tr>\n",
       "      <th>660</th>\n",
       "      <td>False</td>\n",
       "      <td>False</td>\n",
       "      <td>False</td>\n",
       "      <td>False</td>\n",
       "      <td>False</td>\n",
       "      <td>False</td>\n",
       "    </tr>\n",
       "    <tr>\n",
       "      <th>661</th>\n",
       "      <td>False</td>\n",
       "      <td>False</td>\n",
       "      <td>False</td>\n",
       "      <td>False</td>\n",
       "      <td>False</td>\n",
       "      <td>False</td>\n",
       "    </tr>\n",
       "  </tbody>\n",
       "</table>\n",
       "<p>446 rows × 6 columns</p>\n",
       "</div>"
      ],
      "text/plain": [
       "     Startup  Product  Funding  Event  Result  OperatingState\n",
       "1      False    False    False  False   False           False\n",
       "3      False    False    False  False   False           False\n",
       "5      False    False    False  False   False           False\n",
       "6      False    False    False  False   False           False\n",
       "10     False    False    False  False   False           False\n",
       "..       ...      ...      ...    ...     ...             ...\n",
       "657    False    False    False  False   False           False\n",
       "658    False    False    False  False   False           False\n",
       "659    False    False    False  False   False           False\n",
       "660    False    False    False  False   False           False\n",
       "661    False    False    False  False   False           False\n",
       "\n",
       "[446 rows x 6 columns]"
      ]
     },
     "execution_count": 50,
     "metadata": {},
     "output_type": "execute_result"
    }
   ],
   "source": [
    "compdata.isnull()"
   ]
  },
  {
   "cell_type": "markdown",
   "metadata": {},
   "source": [
    " # Converting the ‘Funding’ features to a numerical value."
   ]
  },
  {
   "cell_type": "code",
   "execution_count": 51,
   "metadata": {},
   "outputs": [
    {
     "data": {
      "text/plain": [
       "323     $250K\n",
       "18     $12.2M\n",
       "83       $20K\n",
       "503     $700K\n",
       "493       $6M\n",
       "190     $6.5M\n",
       "596       $3M\n",
       "211     $1.9M\n",
       "572     $6.3M\n",
       "239     $4.5M\n",
       "Name: Funding, dtype: object"
      ]
     },
     "execution_count": 51,
     "metadata": {},
     "output_type": "execute_result"
    }
   ],
   "source": [
    "compdata['Funding'].sample(10) # listing the column to see actual data values"
   ]
  },
  {
   "cell_type": "code",
   "execution_count": 52,
   "metadata": {},
   "outputs": [
    {
     "name": "stdout",
     "output_type": "stream",
     "text": [
      "          Startup          Product Funding                      Event  \\\n",
      "1            3DLT         3dlt.com   $630K           Disrupt NYC 2013   \n",
      "3      3Dprintler   3dprintler.com     $1M            Disrupt NY 2016   \n",
      "5            5to1         5to1.com  $19.3M                  TC50 2009   \n",
      "6    8 Securities  8securities.com    $29M       Disrupt Beijing 2011   \n",
      "10     AdhereTech   adheretech.com   $1.8M  Hardware Battlefield 2014   \n",
      "..            ...              ...     ...                        ...   \n",
      "657        Zivity       zivity.com     $8M                  TC40 2007   \n",
      "658        Zmorph     zmorph3d.com     $1M                          -   \n",
      "659        Zocdoc       zocdoc.com   $223M                  TC40 2007   \n",
      "660          Zula      zulaapp.com   $3.4M            Disrupt SF 2013   \n",
      "661        Zumper       zumper.com  $31.5M            Disrupt SF 2012   \n",
      "\n",
      "              Result OperatingState Funding_in_millions  \n",
      "1         Contestant         Closed                630K  \n",
      "3    Audience choice      Operating                  1M  \n",
      "5         Contestant       Acquired               19.3M  \n",
      "6           Finalist      Operating                 29M  \n",
      "10        Contestant      Operating                1.8M  \n",
      "..               ...            ...                 ...  \n",
      "657       Contestant      Operating                  8M  \n",
      "658  Audience choice      Operating                  1M  \n",
      "659       Contestant      Operating                223M  \n",
      "660  Audience choice      Operating                3.4M  \n",
      "661         Finalist      Operating               31.5M  \n",
      "\n",
      "[446 rows x 7 columns]\n"
     ]
    }
   ],
   "source": [
    "# forming a new column from existing column so that it holds a numerical value\n",
    "\n",
    "compdata['Funding_in_millions'] = compdata['Funding'].str.replace('$','')\n",
    "\n",
    "print(compdata)"
   ]
  },
  {
   "cell_type": "code",
   "execution_count": 53,
   "metadata": {},
   "outputs": [
    {
     "name": "stdout",
     "output_type": "stream",
     "text": [
      "          Startup          Product Funding                      Event  \\\n",
      "1            3DLT         3dlt.com   $630K           Disrupt NYC 2013   \n",
      "3      3Dprintler   3dprintler.com     $1M            Disrupt NY 2016   \n",
      "5            5to1         5to1.com  $19.3M                  TC50 2009   \n",
      "6    8 Securities  8securities.com    $29M       Disrupt Beijing 2011   \n",
      "10     AdhereTech   adheretech.com   $1.8M  Hardware Battlefield 2014   \n",
      "..            ...              ...     ...                        ...   \n",
      "657        Zivity       zivity.com     $8M                  TC40 2007   \n",
      "658        Zmorph     zmorph3d.com     $1M                          -   \n",
      "659        Zocdoc       zocdoc.com   $223M                  TC40 2007   \n",
      "660          Zula      zulaapp.com   $3.4M            Disrupt SF 2013   \n",
      "661        Zumper       zumper.com  $31.5M            Disrupt SF 2012   \n",
      "\n",
      "              Result OperatingState Funding_in_millions Value  \n",
      "1         Contestant         Closed                630K     K  \n",
      "3    Audience choice      Operating                  1M     M  \n",
      "5         Contestant       Acquired               19.3M     M  \n",
      "6           Finalist      Operating                 29M     M  \n",
      "10        Contestant      Operating                1.8M     M  \n",
      "..               ...            ...                 ...   ...  \n",
      "657       Contestant      Operating                  8M     M  \n",
      "658  Audience choice      Operating                  1M     M  \n",
      "659       Contestant      Operating                223M     M  \n",
      "660  Audience choice      Operating                3.4M     M  \n",
      "661         Finalist      Operating               31.5M     M  \n",
      "\n",
      "[446 rows x 8 columns]\n"
     ]
    }
   ],
   "source": [
    "# Forming a new column to hold if the amount mentioned is in K, M or in B\n",
    "\n",
    "compdata['Value'] = compdata.Funding_in_millions.str.extract(r'[\\d\\.]+([KMB]+)', expand=False)\n",
    "\n",
    "\n",
    "print(compdata)"
   ]
  },
  {
   "cell_type": "code",
   "execution_count": 54,
   "metadata": {},
   "outputs": [
    {
     "name": "stdout",
     "output_type": "stream",
     "text": [
      "          Startup          Product Funding                      Event  \\\n",
      "1            3DLT         3dlt.com   $630K           Disrupt NYC 2013   \n",
      "3      3Dprintler   3dprintler.com     $1M            Disrupt NY 2016   \n",
      "5            5to1         5to1.com  $19.3M                  TC50 2009   \n",
      "6    8 Securities  8securities.com    $29M       Disrupt Beijing 2011   \n",
      "10     AdhereTech   adheretech.com   $1.8M  Hardware Battlefield 2014   \n",
      "..            ...              ...     ...                        ...   \n",
      "657        Zivity       zivity.com     $8M                  TC40 2007   \n",
      "658        Zmorph     zmorph3d.com     $1M                          -   \n",
      "659        Zocdoc       zocdoc.com   $223M                  TC40 2007   \n",
      "660          Zula      zulaapp.com   $3.4M            Disrupt SF 2013   \n",
      "661        Zumper       zumper.com  $31.5M            Disrupt SF 2012   \n",
      "\n",
      "              Result OperatingState Funding_in_millions Value  \n",
      "1         Contestant         Closed                 630     K  \n",
      "3    Audience choice      Operating                   1     M  \n",
      "5         Contestant       Acquired                19.3     M  \n",
      "6           Finalist      Operating                  29     M  \n",
      "10        Contestant      Operating                 1.8     M  \n",
      "..               ...            ...                 ...   ...  \n",
      "657       Contestant      Operating                   8     M  \n",
      "658  Audience choice      Operating                   1     M  \n",
      "659       Contestant      Operating                 223     M  \n",
      "660  Audience choice      Operating                 3.4     M  \n",
      "661         Finalist      Operating                31.5     M  \n",
      "\n",
      "[446 rows x 8 columns]\n"
     ]
    }
   ],
   "source": [
    "# Now separating the prefix attached to funding in millions columns as new column 'Value' already holds if its K, M, or B\n",
    "compdata['Funding_in_millions'] = compdata['Funding_in_millions'].str.replace('K','').str.replace('M','').str.replace('B','')\n",
    "print(compdata)"
   ]
  },
  {
   "cell_type": "code",
   "execution_count": 55,
   "metadata": {},
   "outputs": [
    {
     "data": {
      "text/plain": [
       "dtype('float64')"
      ]
     },
     "execution_count": 55,
     "metadata": {},
     "output_type": "execute_result"
    }
   ],
   "source": [
    "compdata.Funding_in_millions = compdata.Funding_in_millions.astype(\"float\")\n",
    "compdata.Funding_in_millions.dtype"
   ]
  },
  {
   "cell_type": "code",
   "execution_count": 56,
   "metadata": {},
   "outputs": [],
   "source": [
    "\n",
    "# Now we need to bring all values under 'Funding_in_millions' to hold the same denominations\n",
    "\n",
    "# if value is 'K' then we need to formulate (Funding_in_millions/1000)\n",
    "# if value is 'M' then we need to assign Funding_in_millions is as it is\n",
    "# if value is 'B' then we need to formulate (Funding_in_millions*1000)\n",
    "\n",
    "compdata[\"Funding_in_millions\"] = compdata.apply(lambda row: row[\"Funding_in_millions\"]/1000 \n",
    "                                                                 if(row[\"Value\"]==\"K\") \n",
    "                                                 else row[\"Funding_in_millions\"]*1000 if(row[\"Value\"]==\"B\") else row[\"Funding_in_millions\"]\n",
    "                                                , axis=1)"
   ]
  },
  {
   "cell_type": "code",
   "execution_count": 57,
   "metadata": {},
   "outputs": [
    {
     "data": {
      "text/plain": [
       "M    309\n",
       "K    136\n",
       "B      1\n",
       "Name: Value, dtype: int64"
      ]
     },
     "execution_count": 57,
     "metadata": {},
     "output_type": "execute_result"
    }
   ],
   "source": [
    "compdata.Value.value_counts()"
   ]
  },
  {
   "cell_type": "code",
   "execution_count": 58,
   "metadata": {},
   "outputs": [
    {
     "data": {
      "text/plain": [
       "count     446.000000\n",
       "mean       17.241489\n",
       "std        90.483710\n",
       "min         0.005000\n",
       "25%         0.745250\n",
       "50%         2.200000\n",
       "75%         9.475000\n",
       "max      1700.000000\n",
       "Name: Funding_in_millions, dtype: float64"
      ]
     },
     "execution_count": 58,
     "metadata": {},
     "output_type": "execute_result"
    }
   ],
   "source": [
    "compdata[\"Funding_in_millions\"].describe()"
   ]
  },
  {
   "cell_type": "code",
   "execution_count": 59,
   "metadata": {},
   "outputs": [
    {
     "name": "stdout",
     "output_type": "stream",
     "text": [
      "          Startup          Product Funding                      Event  \\\n",
      "1            3DLT         3dlt.com   $630K           Disrupt NYC 2013   \n",
      "3      3Dprintler   3dprintler.com     $1M            Disrupt NY 2016   \n",
      "5            5to1         5to1.com  $19.3M                  TC50 2009   \n",
      "6    8 Securities  8securities.com    $29M       Disrupt Beijing 2011   \n",
      "10     AdhereTech   adheretech.com   $1.8M  Hardware Battlefield 2014   \n",
      "..            ...              ...     ...                        ...   \n",
      "657        Zivity       zivity.com     $8M                  TC40 2007   \n",
      "658        Zmorph     zmorph3d.com     $1M                          -   \n",
      "659        Zocdoc       zocdoc.com   $223M                  TC40 2007   \n",
      "660          Zula      zulaapp.com   $3.4M            Disrupt SF 2013   \n",
      "661        Zumper       zumper.com  $31.5M            Disrupt SF 2012   \n",
      "\n",
      "              Result OperatingState  Funding_in_millions Value  \n",
      "1         Contestant         Closed                 0.63     K  \n",
      "3    Audience choice      Operating                 1.00     M  \n",
      "5         Contestant       Acquired                19.30     M  \n",
      "6           Finalist      Operating                29.00     M  \n",
      "10        Contestant      Operating                 1.80     M  \n",
      "..               ...            ...                  ...   ...  \n",
      "657       Contestant      Operating                 8.00     M  \n",
      "658  Audience choice      Operating                 1.00     M  \n",
      "659       Contestant      Operating               223.00     M  \n",
      "660  Audience choice      Operating                 3.40     M  \n",
      "661         Finalist      Operating                31.50     M  \n",
      "\n",
      "[446 rows x 8 columns]\n"
     ]
    }
   ],
   "source": [
    "print(compdata)"
   ]
  },
  {
   "cell_type": "markdown",
   "metadata": {},
   "source": [
    "# Plotting box plot for Funding_in_millions."
   ]
  },
  {
   "cell_type": "code",
   "execution_count": 60,
   "metadata": {},
   "outputs": [
    {
     "name": "stderr",
     "output_type": "stream",
     "text": [
      "D:\\Anaconda\\lib\\site-packages\\seaborn\\_decorators.py:36: FutureWarning: Pass the following variable as a keyword arg: x. From version 0.12, the only valid positional argument will be `data`, and passing other arguments without an explicit keyword will result in an error or misinterpretation.\n",
      "  warnings.warn(\n"
     ]
    },
    {
     "data": {
      "image/png": "[encoded data removed]",
      "text/plain": [
       "<Figure size 432x288 with 1 Axes>"
      ]
     },
     "metadata": {
      "needs_background": "light"
     },
     "output_type": "display_data"
    }
   ],
   "source": [
    "sns.boxplot(compdata['Funding_in_millions']);"
   ]
  },
  {
   "cell_type": "markdown",
   "metadata": {},
   "source": [
    "Here we can see outliers. So we need to remove them first before processing further."
   ]
  },
  {
   "cell_type": "markdown",
   "metadata": {},
   "source": [
    "# Getting the upper & lower fence from the box plot."
   ]
  },
  {
   "cell_type": "code",
   "execution_count": 61,
   "metadata": {},
   "outputs": [
    {
     "name": "stdout",
     "output_type": "stream",
     "text": [
      "8.72975\n"
     ]
    }
   ],
   "source": [
    "# Getting the quantile values\n",
    "Q1 = compdata['Funding_in_millions'].quantile(0.25)\n",
    "Q3 = compdata['Funding_in_millions'].quantile(0.75)\n",
    "\n",
    "IQR = Q3-Q1\n",
    "\n",
    "print(IQR)"
   ]
  },
  {
   "cell_type": "code",
   "execution_count": 62,
   "metadata": {},
   "outputs": [
    {
     "name": "stdout",
     "output_type": "stream",
     "text": [
      "-12.349374999999998\n",
      "-25.444\n",
      "22.569625\n",
      "35.664249999999996\n"
     ]
    }
   ],
   "source": [
    "Lower_Fence = Q1 - (1.5 * IQR)\n",
    "Lower_Outer_Fence = Q1 - (3 * IQR)\n",
    "Upper_Fence = Q3 + (1.5 * IQR)\n",
    "Upper_Outer_Fence = Q3 + (3 * IQR)\n",
    "\n",
    "print(Lower_Fence)\n",
    "print(Lower_Outer_Fence)\n",
    "print(Upper_Fence)\n",
    "print(Upper_Outer_Fence)"
   ]
  },
  {
   "cell_type": "markdown",
   "metadata": {},
   "source": [
    "# Check number of outliers greater than upper fence.\n"
   ]
  },
  {
   "cell_type": "code",
   "execution_count": 63,
   "metadata": {},
   "outputs": [
    {
     "data": {
      "text/html": [
       "<div>\n",
       "<style scoped>\n",
       "    .dataframe tbody tr th:only-of-type {\n",
       "        vertical-align: middle;\n",
       "    }\n",
       "\n",
       "    .dataframe tbody tr th {\n",
       "        vertical-align: top;\n",
       "    }\n",
       "\n",
       "    .dataframe thead th {\n",
       "        text-align: right;\n",
       "    }\n",
       "</style>\n",
       "<table border=\"1\" class=\"dataframe\">\n",
       "  <thead>\n",
       "    <tr style=\"text-align: right;\">\n",
       "      <th></th>\n",
       "      <th>Startup</th>\n",
       "      <th>Product</th>\n",
       "      <th>Funding</th>\n",
       "      <th>Event</th>\n",
       "      <th>Result</th>\n",
       "      <th>OperatingState</th>\n",
       "      <th>Funding_in_millions</th>\n",
       "      <th>Value</th>\n",
       "    </tr>\n",
       "  </thead>\n",
       "  <tbody>\n",
       "    <tr>\n",
       "      <th>6</th>\n",
       "      <td>8 Securities</td>\n",
       "      <td>8securities.com</td>\n",
       "      <td>$29M</td>\n",
       "      <td>Disrupt Beijing 2011</td>\n",
       "      <td>Finalist</td>\n",
       "      <td>Operating</td>\n",
       "      <td>29.0</td>\n",
       "      <td>M</td>\n",
       "    </tr>\n",
       "    <tr>\n",
       "      <th>31</th>\n",
       "      <td>Anyclip</td>\n",
       "      <td>anyclip.com</td>\n",
       "      <td>$24M</td>\n",
       "      <td>TC50 2009</td>\n",
       "      <td>Finalist</td>\n",
       "      <td>Operating</td>\n",
       "      <td>24.0</td>\n",
       "      <td>M</td>\n",
       "    </tr>\n",
       "    <tr>\n",
       "      <th>40</th>\n",
       "      <td>Artsy</td>\n",
       "      <td>artsy.net</td>\n",
       "      <td>$50.9M</td>\n",
       "      <td>Disrupt NYC 2010</td>\n",
       "      <td>Contestant</td>\n",
       "      <td>Operating</td>\n",
       "      <td>50.9</td>\n",
       "      <td>M</td>\n",
       "    </tr>\n",
       "    <tr>\n",
       "      <th>49</th>\n",
       "      <td>Badgeville</td>\n",
       "      <td>badgeville.com</td>\n",
       "      <td>$40M</td>\n",
       "      <td>Disrupt SF 2010</td>\n",
       "      <td>Finalist</td>\n",
       "      <td>Acquired</td>\n",
       "      <td>40.0</td>\n",
       "      <td>M</td>\n",
       "    </tr>\n",
       "    <tr>\n",
       "      <th>56</th>\n",
       "      <td>Betterment</td>\n",
       "      <td>betterment.com</td>\n",
       "      <td>$205M</td>\n",
       "      <td>Disrupt NYC 2010</td>\n",
       "      <td>Finalist</td>\n",
       "      <td>Operating</td>\n",
       "      <td>205.0</td>\n",
       "      <td>M</td>\n",
       "    </tr>\n",
       "    <tr>\n",
       "      <th>108</th>\n",
       "      <td>Clickable</td>\n",
       "      <td>clickable.com</td>\n",
       "      <td>$32.5M</td>\n",
       "      <td>TC40 2007</td>\n",
       "      <td>Finalist</td>\n",
       "      <td>Acquired</td>\n",
       "      <td>32.5</td>\n",
       "      <td>M</td>\n",
       "    </tr>\n",
       "    <tr>\n",
       "      <th>113</th>\n",
       "      <td>Cloudflare</td>\n",
       "      <td>cloudflare.com</td>\n",
       "      <td>$182.1M</td>\n",
       "      <td>Disrupt SF 2010</td>\n",
       "      <td>Runner up</td>\n",
       "      <td>Operating</td>\n",
       "      <td>182.1</td>\n",
       "      <td>M</td>\n",
       "    </tr>\n",
       "    <tr>\n",
       "      <th>128</th>\n",
       "      <td>Credit Sesame</td>\n",
       "      <td>creditsesame.com</td>\n",
       "      <td>$35.4M</td>\n",
       "      <td>Disrupt SF 2010</td>\n",
       "      <td>Contestant</td>\n",
       "      <td>Operating</td>\n",
       "      <td>35.4</td>\n",
       "      <td>M</td>\n",
       "    </tr>\n",
       "    <tr>\n",
       "      <th>130</th>\n",
       "      <td>CrowdFlower Inc.</td>\n",
       "      <td>crowdflower.com</td>\n",
       "      <td>$38M</td>\n",
       "      <td>TC50 2009</td>\n",
       "      <td>Contestant</td>\n",
       "      <td>Operating</td>\n",
       "      <td>38.0</td>\n",
       "      <td>M</td>\n",
       "    </tr>\n",
       "    <tr>\n",
       "      <th>132</th>\n",
       "      <td>Cubic Telecom</td>\n",
       "      <td>cubictelecom.com</td>\n",
       "      <td>$37.1M</td>\n",
       "      <td>TC40 2007</td>\n",
       "      <td>Contestant</td>\n",
       "      <td>Operating</td>\n",
       "      <td>37.1</td>\n",
       "      <td>M</td>\n",
       "    </tr>\n",
       "    <tr>\n",
       "      <th>138</th>\n",
       "      <td>DataSift</td>\n",
       "      <td>datasift.com</td>\n",
       "      <td>$72M</td>\n",
       "      <td>Disrupt SF 2010</td>\n",
       "      <td>Finalist</td>\n",
       "      <td>Operating</td>\n",
       "      <td>72.0</td>\n",
       "      <td>M</td>\n",
       "    </tr>\n",
       "    <tr>\n",
       "      <th>139</th>\n",
       "      <td>DataXu</td>\n",
       "      <td>dataxu.com</td>\n",
       "      <td>$64M</td>\n",
       "      <td>TC50 2009</td>\n",
       "      <td>Contestant</td>\n",
       "      <td>Operating</td>\n",
       "      <td>64.0</td>\n",
       "      <td>M</td>\n",
       "    </tr>\n",
       "    <tr>\n",
       "      <th>154</th>\n",
       "      <td>Dropbox</td>\n",
       "      <td>dropbox.com</td>\n",
       "      <td>$1.7B</td>\n",
       "      <td>TC50 2008</td>\n",
       "      <td>Contestant</td>\n",
       "      <td>Operating</td>\n",
       "      <td>1700.0</td>\n",
       "      <td>B</td>\n",
       "    </tr>\n",
       "    <tr>\n",
       "      <th>166</th>\n",
       "      <td>Enigma</td>\n",
       "      <td>enigma.io</td>\n",
       "      <td>$34.6M</td>\n",
       "      <td>Disrupt NYC 2013</td>\n",
       "      <td>Winner</td>\n",
       "      <td>Operating</td>\n",
       "      <td>34.6</td>\n",
       "      <td>M</td>\n",
       "    </tr>\n",
       "    <tr>\n",
       "      <th>172</th>\n",
       "      <td>EverythingMe</td>\n",
       "      <td>everything.me</td>\n",
       "      <td>$35.5M</td>\n",
       "      <td>Disrupt NYC 2011</td>\n",
       "      <td>Contestant</td>\n",
       "      <td>Closed</td>\n",
       "      <td>35.5</td>\n",
       "      <td>M</td>\n",
       "    </tr>\n",
       "    <tr>\n",
       "      <th>179</th>\n",
       "      <td>Famo.us</td>\n",
       "      <td>famo.us</td>\n",
       "      <td>$30.1M</td>\n",
       "      <td>Disrupt SF 2012</td>\n",
       "      <td>Contestant</td>\n",
       "      <td>Operating</td>\n",
       "      <td>30.1</td>\n",
       "      <td>M</td>\n",
       "    </tr>\n",
       "    <tr>\n",
       "      <th>180</th>\n",
       "      <td>Farmigo</td>\n",
       "      <td>farmigo.com</td>\n",
       "      <td>$26M</td>\n",
       "      <td>Disrupt SF 2011</td>\n",
       "      <td>Finalist</td>\n",
       "      <td>Operating</td>\n",
       "      <td>26.0</td>\n",
       "      <td>M</td>\n",
       "    </tr>\n",
       "    <tr>\n",
       "      <th>188</th>\n",
       "      <td>Fitbit</td>\n",
       "      <td>fitbit.com</td>\n",
       "      <td>$66M</td>\n",
       "      <td>TC50 2008</td>\n",
       "      <td>Finalist</td>\n",
       "      <td>Ipo</td>\n",
       "      <td>66.0</td>\n",
       "      <td>M</td>\n",
       "    </tr>\n",
       "    <tr>\n",
       "      <th>191</th>\n",
       "      <td>Flock</td>\n",
       "      <td>flock.com</td>\n",
       "      <td>$28.3M</td>\n",
       "      <td>TC40 2007</td>\n",
       "      <td>Contestant</td>\n",
       "      <td>Acquired</td>\n",
       "      <td>28.3</td>\n",
       "      <td>M</td>\n",
       "    </tr>\n",
       "    <tr>\n",
       "      <th>209</th>\n",
       "      <td>Getaround</td>\n",
       "      <td>getaround.com</td>\n",
       "      <td>$103M</td>\n",
       "      <td>Disrupt NYC 2011</td>\n",
       "      <td>Winner</td>\n",
       "      <td>Operating</td>\n",
       "      <td>103.0</td>\n",
       "      <td>M</td>\n",
       "    </tr>\n",
       "    <tr>\n",
       "      <th>213</th>\n",
       "      <td>Gild</td>\n",
       "      <td>gild.com</td>\n",
       "      <td>$25.9M</td>\n",
       "      <td>Disrupt SF 2010</td>\n",
       "      <td>Contestant</td>\n",
       "      <td>Acquired</td>\n",
       "      <td>25.9</td>\n",
       "      <td>M</td>\n",
       "    </tr>\n",
       "    <tr>\n",
       "      <th>215</th>\n",
       "      <td>Glide</td>\n",
       "      <td>glide.me</td>\n",
       "      <td>$36.5M</td>\n",
       "      <td>Disrupt NYC 2013</td>\n",
       "      <td>Audience choice</td>\n",
       "      <td>Operating</td>\n",
       "      <td>36.5</td>\n",
       "      <td>M</td>\n",
       "    </tr>\n",
       "    <tr>\n",
       "      <th>225</th>\n",
       "      <td>Grockit</td>\n",
       "      <td>grockit.com</td>\n",
       "      <td>$44.7M</td>\n",
       "      <td>TC50 2008</td>\n",
       "      <td>Finalist</td>\n",
       "      <td>Acquired</td>\n",
       "      <td>44.7</td>\n",
       "      <td>M</td>\n",
       "    </tr>\n",
       "    <tr>\n",
       "      <th>231</th>\n",
       "      <td>HackerRank</td>\n",
       "      <td>hackerrank.com</td>\n",
       "      <td>$24.2M</td>\n",
       "      <td>Disrupt SF 2012</td>\n",
       "      <td>Contestant</td>\n",
       "      <td>Operating</td>\n",
       "      <td>24.2</td>\n",
       "      <td>M</td>\n",
       "    </tr>\n",
       "    <tr>\n",
       "      <th>271</th>\n",
       "      <td>Ionic Security</td>\n",
       "      <td>ionicsecurity.com</td>\n",
       "      <td>$122.4M</td>\n",
       "      <td>Disrupt SF 2012</td>\n",
       "      <td>Contestant</td>\n",
       "      <td>Operating</td>\n",
       "      <td>122.4</td>\n",
       "      <td>M</td>\n",
       "    </tr>\n",
       "    <tr>\n",
       "      <th>276</th>\n",
       "      <td>IZEA</td>\n",
       "      <td>izea.com</td>\n",
       "      <td>$34.9M</td>\n",
       "      <td>Disrupt NYC 2010</td>\n",
       "      <td>Contestant</td>\n",
       "      <td>Ipo</td>\n",
       "      <td>34.9</td>\n",
       "      <td>M</td>\n",
       "    </tr>\n",
       "    <tr>\n",
       "      <th>279</th>\n",
       "      <td>Jiff</td>\n",
       "      <td>jiff.com</td>\n",
       "      <td>$67.8M</td>\n",
       "      <td>Disrupt SF 2011</td>\n",
       "      <td>Contestant</td>\n",
       "      <td>Acquired</td>\n",
       "      <td>67.8</td>\n",
       "      <td>M</td>\n",
       "    </tr>\n",
       "    <tr>\n",
       "      <th>282</th>\n",
       "      <td>Kaltura</td>\n",
       "      <td>kaltura.com</td>\n",
       "      <td>$166.1M</td>\n",
       "      <td>TC40 2007</td>\n",
       "      <td>Audience choice</td>\n",
       "      <td>Operating</td>\n",
       "      <td>166.1</td>\n",
       "      <td>M</td>\n",
       "    </tr>\n",
       "    <tr>\n",
       "      <th>302</th>\n",
       "      <td>Layer</td>\n",
       "      <td>layer.com</td>\n",
       "      <td>$42.1M</td>\n",
       "      <td>Disrupt SF 2013</td>\n",
       "      <td>Winner</td>\n",
       "      <td>Operating</td>\n",
       "      <td>42.1</td>\n",
       "      <td>M</td>\n",
       "    </tr>\n",
       "    <tr>\n",
       "      <th>305</th>\n",
       "      <td>LearnVest</td>\n",
       "      <td>learnvest.com</td>\n",
       "      <td>$69M</td>\n",
       "      <td>TC50 2009</td>\n",
       "      <td>Contestant</td>\n",
       "      <td>Acquired</td>\n",
       "      <td>69.0</td>\n",
       "      <td>M</td>\n",
       "    </tr>\n",
       "    <tr>\n",
       "      <th>313</th>\n",
       "      <td>LiveIntent</td>\n",
       "      <td>liveintent.com</td>\n",
       "      <td>$65.1M</td>\n",
       "      <td>Disrupt NYC 2010</td>\n",
       "      <td>Audience choice</td>\n",
       "      <td>Operating</td>\n",
       "      <td>65.1</td>\n",
       "      <td>M</td>\n",
       "    </tr>\n",
       "    <tr>\n",
       "      <th>325</th>\n",
       "      <td>Lystable</td>\n",
       "      <td>lystable.com</td>\n",
       "      <td>$25.1M</td>\n",
       "      <td>Disrupt London 2015</td>\n",
       "      <td>Finalist</td>\n",
       "      <td>Operating</td>\n",
       "      <td>25.1</td>\n",
       "      <td>M</td>\n",
       "    </tr>\n",
       "    <tr>\n",
       "      <th>346</th>\n",
       "      <td>Mint</td>\n",
       "      <td>mint.com</td>\n",
       "      <td>$31.8M</td>\n",
       "      <td>TC40 2007</td>\n",
       "      <td>Winner</td>\n",
       "      <td>Acquired</td>\n",
       "      <td>31.8</td>\n",
       "      <td>M</td>\n",
       "    </tr>\n",
       "    <tr>\n",
       "      <th>389</th>\n",
       "      <td>OrderWithMe</td>\n",
       "      <td>orderwithme.com</td>\n",
       "      <td>$37M</td>\n",
       "      <td>Disrupt Beijing 2011</td>\n",
       "      <td>Winner</td>\n",
       "      <td>Operating</td>\n",
       "      <td>37.0</td>\n",
       "      <td>M</td>\n",
       "    </tr>\n",
       "    <tr>\n",
       "      <th>393</th>\n",
       "      <td>Osmo</td>\n",
       "      <td>playosmo.com</td>\n",
       "      <td>$38.5M</td>\n",
       "      <td>Disrupt SF 2013</td>\n",
       "      <td>Contestant</td>\n",
       "      <td>Operating</td>\n",
       "      <td>38.5</td>\n",
       "      <td>M</td>\n",
       "    </tr>\n",
       "    <tr>\n",
       "      <th>394</th>\n",
       "      <td>Ossia</td>\n",
       "      <td>ossia.com</td>\n",
       "      <td>$25.5M</td>\n",
       "      <td>Disrupt SF 2013</td>\n",
       "      <td>Runner up</td>\n",
       "      <td>Operating</td>\n",
       "      <td>25.5</td>\n",
       "      <td>M</td>\n",
       "    </tr>\n",
       "    <tr>\n",
       "      <th>398</th>\n",
       "      <td>Owlet Baby Care</td>\n",
       "      <td>owletcare.com</td>\n",
       "      <td>$24M</td>\n",
       "      <td>Hardware Battlefield 2014</td>\n",
       "      <td>Runner up</td>\n",
       "      <td>Operating</td>\n",
       "      <td>24.0</td>\n",
       "      <td>M</td>\n",
       "    </tr>\n",
       "    <tr>\n",
       "      <th>427</th>\n",
       "      <td>Postmates</td>\n",
       "      <td>postmates.com</td>\n",
       "      <td>$278M</td>\n",
       "      <td>Disrupt SF 2011</td>\n",
       "      <td>Contestant</td>\n",
       "      <td>Operating</td>\n",
       "      <td>278.0</td>\n",
       "      <td>M</td>\n",
       "    </tr>\n",
       "    <tr>\n",
       "      <th>432</th>\n",
       "      <td>Prism Skylabs</td>\n",
       "      <td>prism.com</td>\n",
       "      <td>$24M</td>\n",
       "      <td>Disrupt SF 2011</td>\n",
       "      <td>Runner up</td>\n",
       "      <td>Operating</td>\n",
       "      <td>24.0</td>\n",
       "      <td>M</td>\n",
       "    </tr>\n",
       "    <tr>\n",
       "      <th>435</th>\n",
       "      <td>PubMatic</td>\n",
       "      <td>pubmatic.com</td>\n",
       "      <td>$63M</td>\n",
       "      <td>TC40 2007</td>\n",
       "      <td>Contestant</td>\n",
       "      <td>Operating</td>\n",
       "      <td>63.0</td>\n",
       "      <td>M</td>\n",
       "    </tr>\n",
       "    <tr>\n",
       "      <th>460</th>\n",
       "      <td>Roadie</td>\n",
       "      <td>roadie.com</td>\n",
       "      <td>$25M</td>\n",
       "      <td>Disrupt NYC 2014</td>\n",
       "      <td>Audience choice</td>\n",
       "      <td>Operating</td>\n",
       "      <td>25.0</td>\n",
       "      <td>M</td>\n",
       "    </tr>\n",
       "    <tr>\n",
       "      <th>471</th>\n",
       "      <td>SeatGeek</td>\n",
       "      <td>seatgeek.com</td>\n",
       "      <td>$160M</td>\n",
       "      <td>TC50 2009</td>\n",
       "      <td>Contestant</td>\n",
       "      <td>Operating</td>\n",
       "      <td>160.0</td>\n",
       "      <td>M</td>\n",
       "    </tr>\n",
       "    <tr>\n",
       "      <th>546</th>\n",
       "      <td>StyleSeat</td>\n",
       "      <td>styleseat.com</td>\n",
       "      <td>$40M</td>\n",
       "      <td>Disrupt NYC 2011</td>\n",
       "      <td>Contestant</td>\n",
       "      <td>Operating</td>\n",
       "      <td>40.0</td>\n",
       "      <td>M</td>\n",
       "    </tr>\n",
       "    <tr>\n",
       "      <th>555</th>\n",
       "      <td>Symphony Commerce</td>\n",
       "      <td>symphonycommerce.com</td>\n",
       "      <td>$47.4M</td>\n",
       "      <td>Disrupt NYC 2011</td>\n",
       "      <td>Contestant</td>\n",
       "      <td>Operating</td>\n",
       "      <td>47.4</td>\n",
       "      <td>M</td>\n",
       "    </tr>\n",
       "    <tr>\n",
       "      <th>560</th>\n",
       "      <td>Talkdesk</td>\n",
       "      <td>talkdesk.com</td>\n",
       "      <td>$24.5M</td>\n",
       "      <td>Disrupt NYC 2012</td>\n",
       "      <td>Contestant</td>\n",
       "      <td>Operating</td>\n",
       "      <td>24.5</td>\n",
       "      <td>M</td>\n",
       "    </tr>\n",
       "    <tr>\n",
       "      <th>581</th>\n",
       "      <td>TouchPal</td>\n",
       "      <td>touchpal.com</td>\n",
       "      <td>$25M</td>\n",
       "      <td>Disrupt Beijing 2011</td>\n",
       "      <td>Finalist</td>\n",
       "      <td>Operating</td>\n",
       "      <td>25.0</td>\n",
       "      <td>M</td>\n",
       "    </tr>\n",
       "    <tr>\n",
       "      <th>593</th>\n",
       "      <td>TrueCar</td>\n",
       "      <td>truecar.com</td>\n",
       "      <td>$332.4M</td>\n",
       "      <td>TC50 2008</td>\n",
       "      <td>Contestant</td>\n",
       "      <td>Ipo</td>\n",
       "      <td>332.4</td>\n",
       "      <td>M</td>\n",
       "    </tr>\n",
       "    <tr>\n",
       "      <th>598</th>\n",
       "      <td>UberConference</td>\n",
       "      <td>uberconference.com</td>\n",
       "      <td>$35M</td>\n",
       "      <td>Disrupt NYC 2012</td>\n",
       "      <td>Winner</td>\n",
       "      <td>Operating</td>\n",
       "      <td>35.0</td>\n",
       "      <td>M</td>\n",
       "    </tr>\n",
       "    <tr>\n",
       "      <th>606</th>\n",
       "      <td>Upwork</td>\n",
       "      <td>upwork.com</td>\n",
       "      <td>$168.8M</td>\n",
       "      <td>TC50 2009</td>\n",
       "      <td>Audience choice</td>\n",
       "      <td>Operating</td>\n",
       "      <td>168.8</td>\n",
       "      <td>M</td>\n",
       "    </tr>\n",
       "    <tr>\n",
       "      <th>615</th>\n",
       "      <td>VideoSurf</td>\n",
       "      <td>videosurf.com</td>\n",
       "      <td>$28M</td>\n",
       "      <td>TC50 2008</td>\n",
       "      <td>Contestant</td>\n",
       "      <td>Acquired</td>\n",
       "      <td>28.0</td>\n",
       "      <td>M</td>\n",
       "    </tr>\n",
       "    <tr>\n",
       "      <th>625</th>\n",
       "      <td>Voxy</td>\n",
       "      <td>voxy.com</td>\n",
       "      <td>$30.8M</td>\n",
       "      <td>Disrupt SF 2010</td>\n",
       "      <td>Contestant</td>\n",
       "      <td>Operating</td>\n",
       "      <td>30.8</td>\n",
       "      <td>M</td>\n",
       "    </tr>\n",
       "    <tr>\n",
       "      <th>643</th>\n",
       "      <td>Xobni</td>\n",
       "      <td>yahoo.com</td>\n",
       "      <td>$41.8M</td>\n",
       "      <td>TC40 2007</td>\n",
       "      <td>Contestant</td>\n",
       "      <td>Acquired</td>\n",
       "      <td>41.8</td>\n",
       "      <td>M</td>\n",
       "    </tr>\n",
       "    <tr>\n",
       "      <th>644</th>\n",
       "      <td>Yammer</td>\n",
       "      <td>yammer.com</td>\n",
       "      <td>$142M</td>\n",
       "      <td>TC50 2008</td>\n",
       "      <td>Winner</td>\n",
       "      <td>Acquired</td>\n",
       "      <td>142.0</td>\n",
       "      <td>M</td>\n",
       "    </tr>\n",
       "    <tr>\n",
       "      <th>647</th>\n",
       "      <td>Yext</td>\n",
       "      <td>yext.com</td>\n",
       "      <td>$117.8M</td>\n",
       "      <td>TC50 2009</td>\n",
       "      <td>Contestant</td>\n",
       "      <td>Ipo</td>\n",
       "      <td>117.8</td>\n",
       "      <td>M</td>\n",
       "    </tr>\n",
       "    <tr>\n",
       "      <th>649</th>\n",
       "      <td>YouNow</td>\n",
       "      <td>younow.com</td>\n",
       "      <td>$26M</td>\n",
       "      <td>Disrupt SF 2011</td>\n",
       "      <td>Contestant</td>\n",
       "      <td>Operating</td>\n",
       "      <td>26.0</td>\n",
       "      <td>M</td>\n",
       "    </tr>\n",
       "    <tr>\n",
       "      <th>650</th>\n",
       "      <td>YourMechanic</td>\n",
       "      <td>yourmechanic.com</td>\n",
       "      <td>$28M</td>\n",
       "      <td>Disrupt SF 2012</td>\n",
       "      <td>Winner</td>\n",
       "      <td>Operating</td>\n",
       "      <td>28.0</td>\n",
       "      <td>M</td>\n",
       "    </tr>\n",
       "    <tr>\n",
       "      <th>654</th>\n",
       "      <td>ZEFR</td>\n",
       "      <td>zefr.com</td>\n",
       "      <td>$62.1M</td>\n",
       "      <td>Disrupt NYC 2010</td>\n",
       "      <td>Contestant</td>\n",
       "      <td>Operating</td>\n",
       "      <td>62.1</td>\n",
       "      <td>M</td>\n",
       "    </tr>\n",
       "    <tr>\n",
       "      <th>656</th>\n",
       "      <td>Zenefits</td>\n",
       "      <td>zenefits.com</td>\n",
       "      <td>$583.6M</td>\n",
       "      <td>Disrupt NYC 2013</td>\n",
       "      <td>Finalist</td>\n",
       "      <td>Operating</td>\n",
       "      <td>583.6</td>\n",
       "      <td>M</td>\n",
       "    </tr>\n",
       "    <tr>\n",
       "      <th>659</th>\n",
       "      <td>Zocdoc</td>\n",
       "      <td>zocdoc.com</td>\n",
       "      <td>$223M</td>\n",
       "      <td>TC40 2007</td>\n",
       "      <td>Contestant</td>\n",
       "      <td>Operating</td>\n",
       "      <td>223.0</td>\n",
       "      <td>M</td>\n",
       "    </tr>\n",
       "    <tr>\n",
       "      <th>661</th>\n",
       "      <td>Zumper</td>\n",
       "      <td>zumper.com</td>\n",
       "      <td>$31.5M</td>\n",
       "      <td>Disrupt SF 2012</td>\n",
       "      <td>Finalist</td>\n",
       "      <td>Operating</td>\n",
       "      <td>31.5</td>\n",
       "      <td>M</td>\n",
       "    </tr>\n",
       "  </tbody>\n",
       "</table>\n",
       "</div>"
      ],
      "text/plain": [
       "               Startup               Product  Funding  \\\n",
       "6         8 Securities       8securities.com     $29M   \n",
       "31             Anyclip           anyclip.com     $24M   \n",
       "40               Artsy             artsy.net   $50.9M   \n",
       "49          Badgeville        badgeville.com     $40M   \n",
       "56          Betterment        betterment.com    $205M   \n",
       "108          Clickable         clickable.com   $32.5M   \n",
       "113         Cloudflare        cloudflare.com  $182.1M   \n",
       "128      Credit Sesame      creditsesame.com   $35.4M   \n",
       "130   CrowdFlower Inc.       crowdflower.com     $38M   \n",
       "132      Cubic Telecom      cubictelecom.com   $37.1M   \n",
       "138           DataSift          datasift.com     $72M   \n",
       "139             DataXu            dataxu.com     $64M   \n",
       "154            Dropbox           dropbox.com    $1.7B   \n",
       "166             Enigma             enigma.io   $34.6M   \n",
       "172       EverythingMe         everything.me   $35.5M   \n",
       "179            Famo.us               famo.us   $30.1M   \n",
       "180            Farmigo           farmigo.com     $26M   \n",
       "188             Fitbit            fitbit.com     $66M   \n",
       "191              Flock             flock.com   $28.3M   \n",
       "209          Getaround         getaround.com    $103M   \n",
       "213               Gild              gild.com   $25.9M   \n",
       "215              Glide              glide.me   $36.5M   \n",
       "225            Grockit           grockit.com   $44.7M   \n",
       "231         HackerRank        hackerrank.com   $24.2M   \n",
       "271     Ionic Security     ionicsecurity.com  $122.4M   \n",
       "276               IZEA              izea.com   $34.9M   \n",
       "279               Jiff              jiff.com   $67.8M   \n",
       "282            Kaltura           kaltura.com  $166.1M   \n",
       "302              Layer             layer.com   $42.1M   \n",
       "305          LearnVest         learnvest.com     $69M   \n",
       "313         LiveIntent        liveintent.com   $65.1M   \n",
       "325           Lystable          lystable.com   $25.1M   \n",
       "346               Mint              mint.com   $31.8M   \n",
       "389        OrderWithMe       orderwithme.com     $37M   \n",
       "393               Osmo          playosmo.com   $38.5M   \n",
       "394              Ossia             ossia.com   $25.5M   \n",
       "398    Owlet Baby Care         owletcare.com     $24M   \n",
       "427          Postmates         postmates.com    $278M   \n",
       "432      Prism Skylabs             prism.com     $24M   \n",
       "435           PubMatic          pubmatic.com     $63M   \n",
       "460             Roadie            roadie.com     $25M   \n",
       "471           SeatGeek          seatgeek.com    $160M   \n",
       "546          StyleSeat         styleseat.com     $40M   \n",
       "555  Symphony Commerce  symphonycommerce.com   $47.4M   \n",
       "560           Talkdesk          talkdesk.com   $24.5M   \n",
       "581           TouchPal          touchpal.com     $25M   \n",
       "593            TrueCar           truecar.com  $332.4M   \n",
       "598     UberConference    uberconference.com     $35M   \n",
       "606             Upwork            upwork.com  $168.8M   \n",
       "615          VideoSurf         videosurf.com     $28M   \n",
       "625               Voxy              voxy.com   $30.8M   \n",
       "643              Xobni             yahoo.com   $41.8M   \n",
       "644             Yammer            yammer.com    $142M   \n",
       "647               Yext              yext.com  $117.8M   \n",
       "649             YouNow            younow.com     $26M   \n",
       "650       YourMechanic      yourmechanic.com     $28M   \n",
       "654               ZEFR              zefr.com   $62.1M   \n",
       "656           Zenefits          zenefits.com  $583.6M   \n",
       "659             Zocdoc            zocdoc.com    $223M   \n",
       "661             Zumper            zumper.com   $31.5M   \n",
       "\n",
       "                         Event           Result OperatingState  \\\n",
       "6         Disrupt Beijing 2011         Finalist      Operating   \n",
       "31                   TC50 2009         Finalist      Operating   \n",
       "40            Disrupt NYC 2010       Contestant      Operating   \n",
       "49             Disrupt SF 2010         Finalist       Acquired   \n",
       "56            Disrupt NYC 2010         Finalist      Operating   \n",
       "108                  TC40 2007         Finalist       Acquired   \n",
       "113            Disrupt SF 2010        Runner up      Operating   \n",
       "128            Disrupt SF 2010       Contestant      Operating   \n",
       "130                  TC50 2009       Contestant      Operating   \n",
       "132                  TC40 2007       Contestant      Operating   \n",
       "138            Disrupt SF 2010         Finalist      Operating   \n",
       "139                  TC50 2009       Contestant      Operating   \n",
       "154                  TC50 2008       Contestant      Operating   \n",
       "166           Disrupt NYC 2013           Winner      Operating   \n",
       "172           Disrupt NYC 2011       Contestant         Closed   \n",
       "179            Disrupt SF 2012       Contestant      Operating   \n",
       "180            Disrupt SF 2011         Finalist      Operating   \n",
       "188                  TC50 2008         Finalist            Ipo   \n",
       "191                  TC40 2007       Contestant       Acquired   \n",
       "209           Disrupt NYC 2011           Winner      Operating   \n",
       "213            Disrupt SF 2010       Contestant       Acquired   \n",
       "215           Disrupt NYC 2013  Audience choice      Operating   \n",
       "225                  TC50 2008         Finalist       Acquired   \n",
       "231            Disrupt SF 2012       Contestant      Operating   \n",
       "271            Disrupt SF 2012       Contestant      Operating   \n",
       "276           Disrupt NYC 2010       Contestant            Ipo   \n",
       "279            Disrupt SF 2011       Contestant       Acquired   \n",
       "282                  TC40 2007  Audience choice      Operating   \n",
       "302            Disrupt SF 2013           Winner      Operating   \n",
       "305                  TC50 2009       Contestant       Acquired   \n",
       "313           Disrupt NYC 2010  Audience choice      Operating   \n",
       "325        Disrupt London 2015         Finalist      Operating   \n",
       "346                  TC40 2007           Winner       Acquired   \n",
       "389       Disrupt Beijing 2011           Winner      Operating   \n",
       "393            Disrupt SF 2013       Contestant      Operating   \n",
       "394            Disrupt SF 2013        Runner up      Operating   \n",
       "398  Hardware Battlefield 2014        Runner up      Operating   \n",
       "427            Disrupt SF 2011       Contestant      Operating   \n",
       "432            Disrupt SF 2011        Runner up      Operating   \n",
       "435                  TC40 2007       Contestant      Operating   \n",
       "460           Disrupt NYC 2014  Audience choice      Operating   \n",
       "471                  TC50 2009       Contestant      Operating   \n",
       "546           Disrupt NYC 2011       Contestant      Operating   \n",
       "555           Disrupt NYC 2011       Contestant      Operating   \n",
       "560           Disrupt NYC 2012       Contestant      Operating   \n",
       "581       Disrupt Beijing 2011         Finalist      Operating   \n",
       "593                  TC50 2008       Contestant            Ipo   \n",
       "598           Disrupt NYC 2012           Winner      Operating   \n",
       "606                  TC50 2009  Audience choice      Operating   \n",
       "615                  TC50 2008       Contestant       Acquired   \n",
       "625            Disrupt SF 2010       Contestant      Operating   \n",
       "643                  TC40 2007       Contestant       Acquired   \n",
       "644                  TC50 2008           Winner       Acquired   \n",
       "647                  TC50 2009       Contestant            Ipo   \n",
       "649            Disrupt SF 2011       Contestant      Operating   \n",
       "650            Disrupt SF 2012           Winner      Operating   \n",
       "654           Disrupt NYC 2010       Contestant      Operating   \n",
       "656           Disrupt NYC 2013         Finalist      Operating   \n",
       "659                  TC40 2007       Contestant      Operating   \n",
       "661            Disrupt SF 2012         Finalist      Operating   \n",
       "\n",
       "     Funding_in_millions Value  \n",
       "6                   29.0     M  \n",
       "31                  24.0     M  \n",
       "40                  50.9     M  \n",
       "49                  40.0     M  \n",
       "56                 205.0     M  \n",
       "108                 32.5     M  \n",
       "113                182.1     M  \n",
       "128                 35.4     M  \n",
       "130                 38.0     M  \n",
       "132                 37.1     M  \n",
       "138                 72.0     M  \n",
       "139                 64.0     M  \n",
       "154               1700.0     B  \n",
       "166                 34.6     M  \n",
       "172                 35.5     M  \n",
       "179                 30.1     M  \n",
       "180                 26.0     M  \n",
       "188                 66.0     M  \n",
       "191                 28.3     M  \n",
       "209                103.0     M  \n",
       "213                 25.9     M  \n",
       "215                 36.5     M  \n",
       "225                 44.7     M  \n",
       "231                 24.2     M  \n",
       "271                122.4     M  \n",
       "276                 34.9     M  \n",
       "279                 67.8     M  \n",
       "282                166.1     M  \n",
       "302                 42.1     M  \n",
       "305                 69.0     M  \n",
       "313                 65.1     M  \n",
       "325                 25.1     M  \n",
       "346                 31.8     M  \n",
       "389                 37.0     M  \n",
       "393                 38.5     M  \n",
       "394                 25.5     M  \n",
       "398                 24.0     M  \n",
       "427                278.0     M  \n",
       "432                 24.0     M  \n",
       "435                 63.0     M  \n",
       "460                 25.0     M  \n",
       "471                160.0     M  \n",
       "546                 40.0     M  \n",
       "555                 47.4     M  \n",
       "560                 24.5     M  \n",
       "581                 25.0     M  \n",
       "593                332.4     M  \n",
       "598                 35.0     M  \n",
       "606                168.8     M  \n",
       "615                 28.0     M  \n",
       "625                 30.8     M  \n",
       "643                 41.8     M  \n",
       "644                142.0     M  \n",
       "647                117.8     M  \n",
       "649                 26.0     M  \n",
       "650                 28.0     M  \n",
       "654                 62.1     M  \n",
       "656                583.6     M  \n",
       "659                223.0     M  \n",
       "661                 31.5     M  "
      ]
     },
     "execution_count": 63,
     "metadata": {},
     "output_type": "execute_result"
    }
   ],
   "source": [
    "# Now we print the outlier data\n",
    "\n",
    "compdata[((compdata[\"Funding_in_millions\"] < Lower_Fence) |(compdata[\"Funding_in_millions\"] > Upper_Fence))]\n",
    "#compdata.shape"
   ]
  },
  {
   "cell_type": "markdown",
   "metadata": {},
   "source": [
    "  #  Dropping out the  outliers\n",
    "   \n"
   ]
  },
  {
   "cell_type": "code",
   "execution_count": 64,
   "metadata": {},
   "outputs": [
    {
     "data": {
      "text/html": [
       "<div>\n",
       "<style scoped>\n",
       "    .dataframe tbody tr th:only-of-type {\n",
       "        vertical-align: middle;\n",
       "    }\n",
       "\n",
       "    .dataframe tbody tr th {\n",
       "        vertical-align: top;\n",
       "    }\n",
       "\n",
       "    .dataframe thead th {\n",
       "        text-align: right;\n",
       "    }\n",
       "</style>\n",
       "<table border=\"1\" class=\"dataframe\">\n",
       "  <thead>\n",
       "    <tr style=\"text-align: right;\">\n",
       "      <th></th>\n",
       "      <th>Startup</th>\n",
       "      <th>Product</th>\n",
       "      <th>Funding</th>\n",
       "      <th>Event</th>\n",
       "      <th>Result</th>\n",
       "      <th>OperatingState</th>\n",
       "      <th>Funding_in_millions</th>\n",
       "      <th>Value</th>\n",
       "    </tr>\n",
       "  </thead>\n",
       "  <tbody>\n",
       "    <tr>\n",
       "      <th>1</th>\n",
       "      <td>3DLT</td>\n",
       "      <td>3dlt.com</td>\n",
       "      <td>$630K</td>\n",
       "      <td>Disrupt NYC 2013</td>\n",
       "      <td>Contestant</td>\n",
       "      <td>Closed</td>\n",
       "      <td>0.63</td>\n",
       "      <td>K</td>\n",
       "    </tr>\n",
       "    <tr>\n",
       "      <th>3</th>\n",
       "      <td>3Dprintler</td>\n",
       "      <td>3dprintler.com</td>\n",
       "      <td>$1M</td>\n",
       "      <td>Disrupt NY 2016</td>\n",
       "      <td>Audience choice</td>\n",
       "      <td>Operating</td>\n",
       "      <td>1.00</td>\n",
       "      <td>M</td>\n",
       "    </tr>\n",
       "    <tr>\n",
       "      <th>5</th>\n",
       "      <td>5to1</td>\n",
       "      <td>5to1.com</td>\n",
       "      <td>$19.3M</td>\n",
       "      <td>TC50 2009</td>\n",
       "      <td>Contestant</td>\n",
       "      <td>Acquired</td>\n",
       "      <td>19.30</td>\n",
       "      <td>M</td>\n",
       "    </tr>\n",
       "    <tr>\n",
       "      <th>10</th>\n",
       "      <td>AdhereTech</td>\n",
       "      <td>adheretech.com</td>\n",
       "      <td>$1.8M</td>\n",
       "      <td>Hardware Battlefield 2014</td>\n",
       "      <td>Contestant</td>\n",
       "      <td>Operating</td>\n",
       "      <td>1.80</td>\n",
       "      <td>M</td>\n",
       "    </tr>\n",
       "    <tr>\n",
       "      <th>11</th>\n",
       "      <td>AdRocket</td>\n",
       "      <td>adrocket.com</td>\n",
       "      <td>$1M</td>\n",
       "      <td>TC50 2008</td>\n",
       "      <td>Contestant</td>\n",
       "      <td>Closed</td>\n",
       "      <td>1.00</td>\n",
       "      <td>M</td>\n",
       "    </tr>\n",
       "    <tr>\n",
       "      <th>...</th>\n",
       "      <td>...</td>\n",
       "      <td>...</td>\n",
       "      <td>...</td>\n",
       "      <td>...</td>\n",
       "      <td>...</td>\n",
       "      <td>...</td>\n",
       "      <td>...</td>\n",
       "      <td>...</td>\n",
       "    </tr>\n",
       "    <tr>\n",
       "      <th>645</th>\n",
       "      <td>Yap</td>\n",
       "      <td>yapme.com</td>\n",
       "      <td>$10M</td>\n",
       "      <td>TC40 2007</td>\n",
       "      <td>Contestant</td>\n",
       "      <td>Closed</td>\n",
       "      <td>10.00</td>\n",
       "      <td>M</td>\n",
       "    </tr>\n",
       "    <tr>\n",
       "      <th>646</th>\n",
       "      <td>YayPay Inc</td>\n",
       "      <td>yaypay.com</td>\n",
       "      <td>$900K</td>\n",
       "      <td>Disrupt London 2015</td>\n",
       "      <td>Contestant</td>\n",
       "      <td>Operating</td>\n",
       "      <td>0.90</td>\n",
       "      <td>K</td>\n",
       "    </tr>\n",
       "    <tr>\n",
       "      <th>657</th>\n",
       "      <td>Zivity</td>\n",
       "      <td>zivity.com</td>\n",
       "      <td>$8M</td>\n",
       "      <td>TC40 2007</td>\n",
       "      <td>Contestant</td>\n",
       "      <td>Operating</td>\n",
       "      <td>8.00</td>\n",
       "      <td>M</td>\n",
       "    </tr>\n",
       "    <tr>\n",
       "      <th>658</th>\n",
       "      <td>Zmorph</td>\n",
       "      <td>zmorph3d.com</td>\n",
       "      <td>$1M</td>\n",
       "      <td>-</td>\n",
       "      <td>Audience choice</td>\n",
       "      <td>Operating</td>\n",
       "      <td>1.00</td>\n",
       "      <td>M</td>\n",
       "    </tr>\n",
       "    <tr>\n",
       "      <th>660</th>\n",
       "      <td>Zula</td>\n",
       "      <td>zulaapp.com</td>\n",
       "      <td>$3.4M</td>\n",
       "      <td>Disrupt SF 2013</td>\n",
       "      <td>Audience choice</td>\n",
       "      <td>Operating</td>\n",
       "      <td>3.40</td>\n",
       "      <td>M</td>\n",
       "    </tr>\n",
       "  </tbody>\n",
       "</table>\n",
       "<p>386 rows × 8 columns</p>\n",
       "</div>"
      ],
      "text/plain": [
       "        Startup         Product Funding                      Event  \\\n",
       "1          3DLT        3dlt.com   $630K           Disrupt NYC 2013   \n",
       "3    3Dprintler  3dprintler.com     $1M            Disrupt NY 2016   \n",
       "5          5to1        5to1.com  $19.3M                  TC50 2009   \n",
       "10   AdhereTech  adheretech.com   $1.8M  Hardware Battlefield 2014   \n",
       "11     AdRocket    adrocket.com     $1M                  TC50 2008   \n",
       "..          ...             ...     ...                        ...   \n",
       "645         Yap       yapme.com    $10M                  TC40 2007   \n",
       "646  YayPay Inc      yaypay.com   $900K        Disrupt London 2015   \n",
       "657      Zivity      zivity.com     $8M                  TC40 2007   \n",
       "658      Zmorph    zmorph3d.com     $1M                          -   \n",
       "660        Zula     zulaapp.com   $3.4M            Disrupt SF 2013   \n",
       "\n",
       "              Result OperatingState  Funding_in_millions Value  \n",
       "1         Contestant         Closed                 0.63     K  \n",
       "3    Audience choice      Operating                 1.00     M  \n",
       "5         Contestant       Acquired                19.30     M  \n",
       "10        Contestant      Operating                 1.80     M  \n",
       "11        Contestant         Closed                 1.00     M  \n",
       "..               ...            ...                  ...   ...  \n",
       "645       Contestant         Closed                10.00     M  \n",
       "646       Contestant      Operating                 0.90     K  \n",
       "657       Contestant      Operating                 8.00     M  \n",
       "658  Audience choice      Operating                 1.00     M  \n",
       "660  Audience choice      Operating                 3.40     M  \n",
       "\n",
       "[386 rows x 8 columns]"
      ]
     },
     "execution_count": 64,
     "metadata": {},
     "output_type": "execute_result"
    }
   ],
   "source": [
    "#Filter out the outlier data and print only the potential data. To do so, just negate the preceding result using the ~ operator:\n",
    "\n",
    "compdata = compdata[~((compdata[\"Funding_in_millions\"] < Lower_Fence) |(compdata[\"Funding_in_millions\"] > Upper_Fence))]\n",
    "\n",
    "compdata"
   ]
  },
  {
   "cell_type": "markdown",
   "metadata": {},
   "source": [
    "\n",
    "# Plotting the boxplot after removing the outliers"
   ]
  },
  {
   "cell_type": "code",
   "execution_count": 65,
   "metadata": {},
   "outputs": [
    {
     "name": "stderr",
     "output_type": "stream",
     "text": [
      "D:\\Anaconda\\lib\\site-packages\\seaborn\\_decorators.py:36: FutureWarning: Pass the following variable as a keyword arg: x. From version 0.12, the only valid positional argument will be `data`, and passing other arguments without an explicit keyword will result in an error or misinterpretation.\n",
      "  warnings.warn(\n"
     ]
    },
    {
     "data": {
      "image/png": "[encoded data removed]",
      "text/plain": [
       "<Figure size 432x288 with 1 Axes>"
      ]
     },
     "metadata": {
      "needs_background": "light"
     },
     "output_type": "display_data"
    }
   ],
   "source": [
    "sns.boxplot(compdata['Funding_in_millions']);"
   ]
  },
  {
   "cell_type": "markdown",
   "metadata": {},
   "source": [
    "#  Checking frequency of the OperatingState features classes."
   ]
  },
  {
   "cell_type": "code",
   "execution_count": 66,
   "metadata": {},
   "outputs": [
    {
     "data": {
      "text/plain": [
       "Operating    275\n",
       "Closed        56\n",
       "Acquired      55\n",
       "Name: OperatingState, dtype: int64"
      ]
     },
     "execution_count": 66,
     "metadata": {},
     "output_type": "execute_result"
    }
   ],
   "source": [
    "compdata.OperatingState.value_counts()"
   ]
  },
  {
   "cell_type": "markdown",
   "metadata": {},
   "source": [
    "#  Plotting a distribution plot for Funds in million."
   ]
  },
  {
   "cell_type": "code",
   "execution_count": 68,
   "metadata": {},
   "outputs": [
    {
     "data": {
      "text/plain": [
       "<seaborn.axisgrid.FacetGrid at 0x2cd3fbbc460>"
      ]
     },
     "execution_count": 68,
     "metadata": {},
     "output_type": "execute_result"
    },
    {
     "data": {
      "image/png": "[encoded data removed]",
      "text/plain": [
       "<Figure size 360x360 with 1 Axes>"
      ]
     },
     "metadata": {
      "needs_background": "light"
     },
     "output_type": "display_data"
    }
   ],
   "source": [
    "sns.displot(compdata[\"Funding_in_millions\"])"
   ]
  },
  {
   "cell_type": "code",
   "execution_count": 69,
   "metadata": {},
   "outputs": [
    {
     "data": {
      "text/plain": [
       "count    386.00000\n",
       "mean       3.72514\n",
       "std        4.73236\n",
       "min        0.00500\n",
       "25%        0.60000\n",
       "50%        1.70000\n",
       "75%        5.00000\n",
       "max       22.00000\n",
       "Name: Funding_in_millions, dtype: float64"
      ]
     },
     "execution_count": 69,
     "metadata": {},
     "output_type": "execute_result"
    }
   ],
   "source": [
    "compdata.Funding_in_millions.describe()"
   ]
  },
  {
   "cell_type": "markdown",
   "metadata": {},
   "source": [
    "# Plotting distribution plots for companies still operating and companies that closed."
   ]
  },
  {
   "cell_type": "code",
   "execution_count": 70,
   "metadata": {},
   "outputs": [
    {
     "data": {
      "text/plain": [
       "<seaborn.axisgrid.FacetGrid at 0x2cd3fd090d0>"
      ]
     },
     "execution_count": 70,
     "metadata": {},
     "output_type": "execute_result"
    },
    {
     "data": {
      "image/png": "[encoded data removed]",
      "text/plain": [
       "<Figure size 360x360 with 1 Axes>"
      ]
     },
     "metadata": {
      "needs_background": "light"
     },
     "output_type": "display_data"
    }
   ],
   "source": [
    "sns.displot(compdata[\"OperatingState\"])"
   ]
  },
  {
   "cell_type": "code",
   "execution_count": 27,
   "metadata": {},
   "outputs": [
    {
     "name": "stderr",
     "output_type": "stream",
     "text": [
      "D:\\Anaconda\\lib\\site-packages\\seaborn\\distributions.py:2551: FutureWarning: `distplot` is a deprecated function and will be removed in a future version. Please adapt your code to use either `displot` (a figure-level function with similar flexibility) or `histplot` (an axes-level function for histograms).\n",
      "  warnings.warn(msg, FutureWarning)\n"
     ]
    },
    {
     "data": {
      "text/plain": [
       "<AxesSubplot:xlabel='Funding_in_millions', ylabel='Density'>"
      ]
     },
     "execution_count": 27,
     "metadata": {},
     "output_type": "execute_result"
    },
    {
     "data": {
      "image/png": "[encoded data removed]",
      "text/plain": [
       "<Figure size 432x288 with 1 Axes>"
      ]
     },
     "metadata": {
      "needs_background": "light"
     },
     "output_type": "display_data"
    }
   ],
   "source": [
    "#sns.displot(compdata.loc[compdata.OperatingState == \"Closed\", 'Funding_in_millions'])\n",
    "sns.distplot(compdata.loc[compdata.OperatingState == 'Closed', 'Funding_in_millions'])"
   ]
  },
  {
   "cell_type": "code",
   "execution_count": 71,
   "metadata": {},
   "outputs": [
    {
     "name": "stderr",
     "output_type": "stream",
     "text": [
      "D:\\Anaconda\\lib\\site-packages\\seaborn\\distributions.py:2551: FutureWarning: `distplot` is a deprecated function and will be removed in a future version. Please adapt your code to use either `displot` (a figure-level function with similar flexibility) or `histplot` (an axes-level function for histograms).\n",
      "  warnings.warn(msg, FutureWarning)\n"
     ]
    },
    {
     "data": {
      "text/plain": [
       "<AxesSubplot:xlabel='Funding_in_millions', ylabel='Density'>"
      ]
     },
     "execution_count": 71,
     "metadata": {},
     "output_type": "execute_result"
    },
    {
     "data": {
      "image/png": "[encoded data removed]",
      "text/plain": [
       "<Figure size 432x288 with 1 Axes>"
      ]
     },
     "metadata": {
      "needs_background": "light"
     },
     "output_type": "display_data"
    }
   ],
   "source": [
    "sns.distplot(compdata.loc[compdata.OperatingState == 'Operating', 'Funding_in_millions'])"
   ]
  },
  {
   "cell_type": "markdown",
   "metadata": {},
   "source": [
    "# Statistical analysis:\n",
    "    • Is there any significant difference between Funds raised by companies that are still operating vs companies that closed down?\n",
    "        Write the null hypothesis and alternative hypothesis.\n",
    "        Test for significance and conclusion"
   ]
  },
  {
   "cell_type": "markdown",
   "metadata": {},
   "source": [
    "Let the mean funds raised by companies still operating = M1\n",
    "\n",
    "Let the mean funds raised by companies that are closed = M2\n",
    "\n",
    "Null hypothesis: There's no significant difference between the funds i.e M1 = M2\n",
    "\n",
    "Alternate hypo : There's significant difference between the funds i.e M<>M2\n",
    "    \n"
   ]
  },
  {
   "cell_type": "markdown",
   "metadata": {},
   "source": [
    "# Performing Z test :"
   ]
  },
  {
   "cell_type": "code",
   "execution_count": 72,
   "metadata": {},
   "outputs": [
    {
     "name": "stdout",
     "output_type": "stream",
     "text": [
      "p_value obtained --> 0.192\n",
      "The difference is not significant and,we fail to reject the null hypothesis\n"
     ]
    }
   ],
   "source": [
    "from statsmodels.stats.weightstats import ztest\n",
    "\n",
    "sample1 = compdata.loc[compdata.OperatingState == 'Operating', 'Funding_in_millions']\n",
    "sample2 = compdata.loc[compdata.OperatingState =='Closed', 'Funding_in_millions']\n",
    "\n",
    "#print(sample1, sample2)\n",
    "\n",
    " # Let's consider a significance level of 5%\n",
    "\n",
    "alpha = 0.05  \n",
    "\n",
    "test_statistic, p_value = ztest(sample1, sample2)\n",
    "\n",
    "print('p_value obtained -->',round(p_value,3))\n",
    "\n",
    "if p_value <= alpha:\n",
    "    print('The difference is significant and we reject the Null hypothesis')\n",
    "else:\n",
    "    print('The difference is not significant and,we fail to reject the null hypothesis''')\n"
   ]
  },
  {
   "cell_type": "markdown",
   "metadata": {},
   "source": [
    "# t-test"
   ]
  },
  {
   "cell_type": "code",
   "execution_count": 73,
   "metadata": {},
   "outputs": [
    {
     "name": "stdout",
     "output_type": "stream",
     "text": [
      "p_value obtained --> 0.193\n",
      "The difference is not significant and,we fail to reject the null hypothesis\n"
     ]
    }
   ],
   "source": [
    "from scipy.stats import ttest_ind\n",
    "\n",
    "test_statistic, p_value = ttest_ind(sample1, sample2)\n",
    "\n",
    "print('p_value obtained -->',round(p_value,3))\n",
    "\n",
    "if p_value <= alpha:\n",
    "    print('The difference is significant and we reject the Null hypothesis')\n",
    "else:\n",
    "    print('The difference is not significant and,we fail to reject the null hypothesis''')\n"
   ]
  },
  {
   "cell_type": "markdown",
   "metadata": {},
   "source": [
    "From the above two tests, there is no  evidence to show that there is significant difference between funds raised by the\n",
    "companies that are not operating and that are closed, and hence we fail to reject the null hypothesis"
   ]
  },
  {
   "cell_type": "code",
   "execution_count": 74,
   "metadata": {},
   "outputs": [
    {
     "data": {
      "text/html": [
       "<div>\n",
       "<style scoped>\n",
       "    .dataframe tbody tr th:only-of-type {\n",
       "        vertical-align: middle;\n",
       "    }\n",
       "\n",
       "    .dataframe tbody tr th {\n",
       "        vertical-align: top;\n",
       "    }\n",
       "\n",
       "    .dataframe thead th {\n",
       "        text-align: right;\n",
       "    }\n",
       "</style>\n",
       "<table border=\"1\" class=\"dataframe\">\n",
       "  <thead>\n",
       "    <tr style=\"text-align: right;\">\n",
       "      <th></th>\n",
       "      <th>Startup</th>\n",
       "      <th>Product</th>\n",
       "      <th>Funding</th>\n",
       "      <th>Event</th>\n",
       "      <th>Result</th>\n",
       "      <th>OperatingState</th>\n",
       "      <th>Funding_in_millions</th>\n",
       "      <th>Value</th>\n",
       "    </tr>\n",
       "  </thead>\n",
       "  <tbody>\n",
       "    <tr>\n",
       "      <th>1</th>\n",
       "      <td>3DLT</td>\n",
       "      <td>3dlt.com</td>\n",
       "      <td>$630K</td>\n",
       "      <td>Disrupt NYC 2013</td>\n",
       "      <td>Contestant</td>\n",
       "      <td>Closed</td>\n",
       "      <td>0.63</td>\n",
       "      <td>K</td>\n",
       "    </tr>\n",
       "    <tr>\n",
       "      <th>3</th>\n",
       "      <td>3Dprintler</td>\n",
       "      <td>3dprintler.com</td>\n",
       "      <td>$1M</td>\n",
       "      <td>Disrupt NY 2016</td>\n",
       "      <td>Audience choice</td>\n",
       "      <td>Operating</td>\n",
       "      <td>1.00</td>\n",
       "      <td>M</td>\n",
       "    </tr>\n",
       "    <tr>\n",
       "      <th>5</th>\n",
       "      <td>5to1</td>\n",
       "      <td>5to1.com</td>\n",
       "      <td>$19.3M</td>\n",
       "      <td>TC50 2009</td>\n",
       "      <td>Contestant</td>\n",
       "      <td>Acquired</td>\n",
       "      <td>19.30</td>\n",
       "      <td>M</td>\n",
       "    </tr>\n",
       "    <tr>\n",
       "      <th>10</th>\n",
       "      <td>AdhereTech</td>\n",
       "      <td>adheretech.com</td>\n",
       "      <td>$1.8M</td>\n",
       "      <td>Hardware Battlefield 2014</td>\n",
       "      <td>Contestant</td>\n",
       "      <td>Operating</td>\n",
       "      <td>1.80</td>\n",
       "      <td>M</td>\n",
       "    </tr>\n",
       "    <tr>\n",
       "      <th>11</th>\n",
       "      <td>AdRocket</td>\n",
       "      <td>adrocket.com</td>\n",
       "      <td>$1M</td>\n",
       "      <td>TC50 2008</td>\n",
       "      <td>Contestant</td>\n",
       "      <td>Closed</td>\n",
       "      <td>1.00</td>\n",
       "      <td>M</td>\n",
       "    </tr>\n",
       "    <tr>\n",
       "      <th>...</th>\n",
       "      <td>...</td>\n",
       "      <td>...</td>\n",
       "      <td>...</td>\n",
       "      <td>...</td>\n",
       "      <td>...</td>\n",
       "      <td>...</td>\n",
       "      <td>...</td>\n",
       "      <td>...</td>\n",
       "    </tr>\n",
       "    <tr>\n",
       "      <th>645</th>\n",
       "      <td>Yap</td>\n",
       "      <td>yapme.com</td>\n",
       "      <td>$10M</td>\n",
       "      <td>TC40 2007</td>\n",
       "      <td>Contestant</td>\n",
       "      <td>Closed</td>\n",
       "      <td>10.00</td>\n",
       "      <td>M</td>\n",
       "    </tr>\n",
       "    <tr>\n",
       "      <th>646</th>\n",
       "      <td>YayPay Inc</td>\n",
       "      <td>yaypay.com</td>\n",
       "      <td>$900K</td>\n",
       "      <td>Disrupt London 2015</td>\n",
       "      <td>Contestant</td>\n",
       "      <td>Operating</td>\n",
       "      <td>0.90</td>\n",
       "      <td>K</td>\n",
       "    </tr>\n",
       "    <tr>\n",
       "      <th>657</th>\n",
       "      <td>Zivity</td>\n",
       "      <td>zivity.com</td>\n",
       "      <td>$8M</td>\n",
       "      <td>TC40 2007</td>\n",
       "      <td>Contestant</td>\n",
       "      <td>Operating</td>\n",
       "      <td>8.00</td>\n",
       "      <td>M</td>\n",
       "    </tr>\n",
       "    <tr>\n",
       "      <th>658</th>\n",
       "      <td>Zmorph</td>\n",
       "      <td>zmorph3d.com</td>\n",
       "      <td>$1M</td>\n",
       "      <td>-</td>\n",
       "      <td>Audience choice</td>\n",
       "      <td>Operating</td>\n",
       "      <td>1.00</td>\n",
       "      <td>M</td>\n",
       "    </tr>\n",
       "    <tr>\n",
       "      <th>660</th>\n",
       "      <td>Zula</td>\n",
       "      <td>zulaapp.com</td>\n",
       "      <td>$3.4M</td>\n",
       "      <td>Disrupt SF 2013</td>\n",
       "      <td>Audience choice</td>\n",
       "      <td>Operating</td>\n",
       "      <td>3.40</td>\n",
       "      <td>M</td>\n",
       "    </tr>\n",
       "  </tbody>\n",
       "</table>\n",
       "<p>386 rows × 8 columns</p>\n",
       "</div>"
      ],
      "text/plain": [
       "        Startup         Product Funding                      Event  \\\n",
       "1          3DLT        3dlt.com   $630K           Disrupt NYC 2013   \n",
       "3    3Dprintler  3dprintler.com     $1M            Disrupt NY 2016   \n",
       "5          5to1        5to1.com  $19.3M                  TC50 2009   \n",
       "10   AdhereTech  adheretech.com   $1.8M  Hardware Battlefield 2014   \n",
       "11     AdRocket    adrocket.com     $1M                  TC50 2008   \n",
       "..          ...             ...     ...                        ...   \n",
       "645         Yap       yapme.com    $10M                  TC40 2007   \n",
       "646  YayPay Inc      yaypay.com   $900K        Disrupt London 2015   \n",
       "657      Zivity      zivity.com     $8M                  TC40 2007   \n",
       "658      Zmorph    zmorph3d.com     $1M                          -   \n",
       "660        Zula     zulaapp.com   $3.4M            Disrupt SF 2013   \n",
       "\n",
       "              Result OperatingState  Funding_in_millions Value  \n",
       "1         Contestant         Closed                 0.63     K  \n",
       "3    Audience choice      Operating                 1.00     M  \n",
       "5         Contestant       Acquired                19.30     M  \n",
       "10        Contestant      Operating                 1.80     M  \n",
       "11        Contestant         Closed                 1.00     M  \n",
       "..               ...            ...                  ...   ...  \n",
       "645       Contestant         Closed                10.00     M  \n",
       "646       Contestant      Operating                 0.90     K  \n",
       "657       Contestant      Operating                 8.00     M  \n",
       "658  Audience choice      Operating                 1.00     M  \n",
       "660  Audience choice      Operating                 3.40     M  \n",
       "\n",
       "[386 rows x 8 columns]"
      ]
     },
     "execution_count": 74,
     "metadata": {},
     "output_type": "execute_result"
    }
   ],
   "source": [
    "new_compdata = compdata.copy(deep = True)\n",
    "new_compdata"
   ]
  },
  {
   "cell_type": "markdown",
   "metadata": {},
   "source": [
    "# Calculate percentage of winners that are still operating and percentage of contestants that are still operating¶"
   ]
  },
  {
   "cell_type": "code",
   "execution_count": 75,
   "metadata": {},
   "outputs": [
    {
     "data": {
      "text/plain": [
       "Contestant         282\n",
       "Finalist            52\n",
       "Audience choice     20\n",
       "Winner              17\n",
       "Runner up           15\n",
       "Name: Result, dtype: int64"
      ]
     },
     "execution_count": 75,
     "metadata": {},
     "output_type": "execute_result"
    }
   ],
   "source": [
    "new_compdata.Result.value_counts()"
   ]
  },
  {
   "cell_type": "code",
   "execution_count": 76,
   "metadata": {},
   "outputs": [
    {
     "data": {
      "text/plain": [
       "Operating    275\n",
       "Closed        56\n",
       "Acquired      55\n",
       "Name: OperatingState, dtype: int64"
      ]
     },
     "execution_count": 76,
     "metadata": {},
     "output_type": "execute_result"
    }
   ],
   "source": [
    "new_compdata.OperatingState.value_counts()"
   ]
  },
  {
   "cell_type": "markdown",
   "metadata": {},
   "source": [
    "# Percentage of winners that are still operating:\n"
   ]
  },
  {
   "cell_type": "code",
   "execution_count": 77,
   "metadata": {},
   "outputs": [
    {
     "name": "stdout",
     "output_type": "stream",
     "text": [
      "% of Winners that are still operating -->  0.031088082901554404\n"
     ]
    }
   ],
   "source": [
    "# Percentage of winners still operating\n",
    "\n",
    "option = ['Operating']    \n",
    "res_winners = new_compdata[(new_compdata['Result'] == 'Winner') &\n",
    "                          new_compdata['OperatingState'].isin(option)]\n",
    "winners_rows = len(res_winners.axes[0]) # gives count of winners still operating\n",
    "\n",
    "total_rows = len(new_compdata.axes[0]) # gives count of total entries in the given dataset\n",
    "\n",
    "percent_val = (winners_rows)/(total_rows)\n",
    "\n",
    "print('% of Winners that are still operating --> ', percent_val)"
   ]
  },
  {
   "cell_type": "markdown",
   "metadata": {},
   "source": [
    "# Percentage of contestants that are still operating"
   ]
  },
  {
   "cell_type": "code",
   "execution_count": 78,
   "metadata": {},
   "outputs": [
    {
     "name": "stdout",
     "output_type": "stream",
     "text": [
      "194\n",
      "% of Contestants that are still operating -->  0.5025906735751295\n"
     ]
    }
   ],
   "source": [
    "option = ['Operating']    \n",
    "res_contestants = new_compdata[(new_compdata['Result'] == 'Contestant') &\n",
    "                          new_compdata['OperatingState'].isin(option)]\n",
    "contestant_rows = len(res_contestants.axes[0]) # gives count of contestants still operating\n",
    "print(contestant_rows)\n",
    "total_rows = len(new_compdata.axes[0]) # gives count of total entries in the given dataset\n",
    "\n",
    "contestant_val = (contestant_rows)/(total_rows)\n",
    "\n",
    "print('% of Contestants that are still operating --> ', contestant_val)"
   ]
  },
  {
   "cell_type": "markdown",
   "metadata": {},
   "source": [
    "# Write your hypothesis comparing the proportion of companies that are operating between winners and contestants Write the null hypothesis and alternative hypothesis. Test for significance and conclusion\n",
    "\n"
   ]
  },
  {
   "cell_type": "markdown",
   "metadata": {},
   "source": [
    "Null Hypothesis : The proportion companies operating between winners and contestants are the same\n",
    "\n",
    "Alternate Hypothesis : The proportion of companies operating between the two categories are not same\n",
    "    \n",
    "Since, its proportion we need to do chi-square test.   \n"
   ]
  },
  {
   "cell_type": "code",
   "execution_count": 79,
   "metadata": {},
   "outputs": [
    {
     "name": "stdout",
     "output_type": "stream",
     "text": [
      "p_value--> 1.3556369471455671e-06\n",
      "The difference is significant and we reject the Null hypothesis\n"
     ]
    }
   ],
   "source": [
    "from scipy.stats import chi2_contingency\n",
    "from scipy.stats import chi2\n",
    "\n",
    "alpha = 0.95\n",
    "p_value = chi2.ppf(percent_val, contestant_val)\n",
    "\n",
    "print('p_value-->',p_value)\n",
    "\n",
    "if p_value <= alpha:\n",
    "    print('The difference is significant and we reject the Null hypothesis')\n",
    "else:\n",
    "    print('The difference is not significant and,we fail to reject the null hypothesis''')"
   ]
  },
  {
   "cell_type": "markdown",
   "metadata": {},
   "source": [
    "Since p_value is less than the level of significance value, we Reject the null hypothesis.\n",
    "\n",
    "\n",
    "Hence, the amount of funds raised by a company doesnt seem to be a strong factor to decide if the company is still operating \n",
    "or it is in closed status.\n",
    "\n",
    "\n"
   ]
  },
  {
   "cell_type": "code",
   "execution_count": 80,
   "metadata": {},
   "outputs": [
    {
     "data": {
      "text/html": [
       "<div>\n",
       "<style scoped>\n",
       "    .dataframe tbody tr th:only-of-type {\n",
       "        vertical-align: middle;\n",
       "    }\n",
       "\n",
       "    .dataframe tbody tr th {\n",
       "        vertical-align: top;\n",
       "    }\n",
       "\n",
       "    .dataframe thead th {\n",
       "        text-align: right;\n",
       "    }\n",
       "</style>\n",
       "<table border=\"1\" class=\"dataframe\">\n",
       "  <thead>\n",
       "    <tr style=\"text-align: right;\">\n",
       "      <th></th>\n",
       "      <th>Startup</th>\n",
       "      <th>Product</th>\n",
       "      <th>Funding</th>\n",
       "      <th>Event</th>\n",
       "      <th>Result</th>\n",
       "      <th>OperatingState</th>\n",
       "      <th>Funding_in_millions</th>\n",
       "      <th>Value</th>\n",
       "    </tr>\n",
       "  </thead>\n",
       "  <tbody>\n",
       "    <tr>\n",
       "      <th>1</th>\n",
       "      <td>3DLT</td>\n",
       "      <td>3dlt.com</td>\n",
       "      <td>$630K</td>\n",
       "      <td>Disrupt NYC 2013</td>\n",
       "      <td>Contestant</td>\n",
       "      <td>Closed</td>\n",
       "      <td>0.63</td>\n",
       "      <td>K</td>\n",
       "    </tr>\n",
       "    <tr>\n",
       "      <th>3</th>\n",
       "      <td>3Dprintler</td>\n",
       "      <td>3dprintler.com</td>\n",
       "      <td>$1M</td>\n",
       "      <td>Disrupt NY 2016</td>\n",
       "      <td>Audience choice</td>\n",
       "      <td>Operating</td>\n",
       "      <td>1.00</td>\n",
       "      <td>M</td>\n",
       "    </tr>\n",
       "    <tr>\n",
       "      <th>5</th>\n",
       "      <td>5to1</td>\n",
       "      <td>5to1.com</td>\n",
       "      <td>$19.3M</td>\n",
       "      <td>TC50 2009</td>\n",
       "      <td>Contestant</td>\n",
       "      <td>Acquired</td>\n",
       "      <td>19.30</td>\n",
       "      <td>M</td>\n",
       "    </tr>\n",
       "    <tr>\n",
       "      <th>10</th>\n",
       "      <td>AdhereTech</td>\n",
       "      <td>adheretech.com</td>\n",
       "      <td>$1.8M</td>\n",
       "      <td>Hardware Battlefield 2014</td>\n",
       "      <td>Contestant</td>\n",
       "      <td>Operating</td>\n",
       "      <td>1.80</td>\n",
       "      <td>M</td>\n",
       "    </tr>\n",
       "    <tr>\n",
       "      <th>11</th>\n",
       "      <td>AdRocket</td>\n",
       "      <td>adrocket.com</td>\n",
       "      <td>$1M</td>\n",
       "      <td>TC50 2008</td>\n",
       "      <td>Contestant</td>\n",
       "      <td>Closed</td>\n",
       "      <td>1.00</td>\n",
       "      <td>M</td>\n",
       "    </tr>\n",
       "    <tr>\n",
       "      <th>...</th>\n",
       "      <td>...</td>\n",
       "      <td>...</td>\n",
       "      <td>...</td>\n",
       "      <td>...</td>\n",
       "      <td>...</td>\n",
       "      <td>...</td>\n",
       "      <td>...</td>\n",
       "      <td>...</td>\n",
       "    </tr>\n",
       "    <tr>\n",
       "      <th>645</th>\n",
       "      <td>Yap</td>\n",
       "      <td>yapme.com</td>\n",
       "      <td>$10M</td>\n",
       "      <td>TC40 2007</td>\n",
       "      <td>Contestant</td>\n",
       "      <td>Closed</td>\n",
       "      <td>10.00</td>\n",
       "      <td>M</td>\n",
       "    </tr>\n",
       "    <tr>\n",
       "      <th>646</th>\n",
       "      <td>YayPay Inc</td>\n",
       "      <td>yaypay.com</td>\n",
       "      <td>$900K</td>\n",
       "      <td>Disrupt London 2015</td>\n",
       "      <td>Contestant</td>\n",
       "      <td>Operating</td>\n",
       "      <td>0.90</td>\n",
       "      <td>K</td>\n",
       "    </tr>\n",
       "    <tr>\n",
       "      <th>657</th>\n",
       "      <td>Zivity</td>\n",
       "      <td>zivity.com</td>\n",
       "      <td>$8M</td>\n",
       "      <td>TC40 2007</td>\n",
       "      <td>Contestant</td>\n",
       "      <td>Operating</td>\n",
       "      <td>8.00</td>\n",
       "      <td>M</td>\n",
       "    </tr>\n",
       "    <tr>\n",
       "      <th>658</th>\n",
       "      <td>Zmorph</td>\n",
       "      <td>zmorph3d.com</td>\n",
       "      <td>$1M</td>\n",
       "      <td>-</td>\n",
       "      <td>Audience choice</td>\n",
       "      <td>Operating</td>\n",
       "      <td>1.00</td>\n",
       "      <td>M</td>\n",
       "    </tr>\n",
       "    <tr>\n",
       "      <th>660</th>\n",
       "      <td>Zula</td>\n",
       "      <td>zulaapp.com</td>\n",
       "      <td>$3.4M</td>\n",
       "      <td>Disrupt SF 2013</td>\n",
       "      <td>Audience choice</td>\n",
       "      <td>Operating</td>\n",
       "      <td>3.40</td>\n",
       "      <td>M</td>\n",
       "    </tr>\n",
       "  </tbody>\n",
       "</table>\n",
       "<p>386 rows × 8 columns</p>\n",
       "</div>"
      ],
      "text/plain": [
       "        Startup         Product Funding                      Event  \\\n",
       "1          3DLT        3dlt.com   $630K           Disrupt NYC 2013   \n",
       "3    3Dprintler  3dprintler.com     $1M            Disrupt NY 2016   \n",
       "5          5to1        5to1.com  $19.3M                  TC50 2009   \n",
       "10   AdhereTech  adheretech.com   $1.8M  Hardware Battlefield 2014   \n",
       "11     AdRocket    adrocket.com     $1M                  TC50 2008   \n",
       "..          ...             ...     ...                        ...   \n",
       "645         Yap       yapme.com    $10M                  TC40 2007   \n",
       "646  YayPay Inc      yaypay.com   $900K        Disrupt London 2015   \n",
       "657      Zivity      zivity.com     $8M                  TC40 2007   \n",
       "658      Zmorph    zmorph3d.com     $1M                          -   \n",
       "660        Zula     zulaapp.com   $3.4M            Disrupt SF 2013   \n",
       "\n",
       "              Result OperatingState  Funding_in_millions Value  \n",
       "1         Contestant         Closed                 0.63     K  \n",
       "3    Audience choice      Operating                 1.00     M  \n",
       "5         Contestant       Acquired                19.30     M  \n",
       "10        Contestant      Operating                 1.80     M  \n",
       "11        Contestant         Closed                 1.00     M  \n",
       "..               ...            ...                  ...   ...  \n",
       "645       Contestant         Closed                10.00     M  \n",
       "646       Contestant      Operating                 0.90     K  \n",
       "657       Contestant      Operating                 8.00     M  \n",
       "658  Audience choice      Operating                 1.00     M  \n",
       "660  Audience choice      Operating                 3.40     M  \n",
       "\n",
       "[386 rows x 8 columns]"
      ]
     },
     "execution_count": 80,
     "metadata": {},
     "output_type": "execute_result"
    }
   ],
   "source": [
    "new_compdata"
   ]
  },
  {
   "cell_type": "markdown",
   "metadata": {},
   "source": [
    "# Checking for distribution of Event "
   ]
  },
  {
   "cell_type": "code",
   "execution_count": 81,
   "metadata": {},
   "outputs": [
    {
     "data": {
      "text/plain": [
       "TC50 2008                    25\n",
       "TC40 2007                    22\n",
       "Disrupt NY 2015              21\n",
       "Disrupt NYC 2013             19\n",
       "TC50 2009                    19\n",
       "Disrupt SF 2013              19\n",
       "Disrupt SF 2014              19\n",
       "Disrupt NYC 2012             19\n",
       "Disrupt SF 2015              19\n",
       "Disrupt SF 2011              19\n",
       "Disrupt SF 2016              17\n",
       "Disrupt NY 2016              16\n",
       "Disrupt NYC 2014             15\n",
       "Disrupt NYC 2011             15\n",
       "Disrupt SF 2012              15\n",
       "Disrupt SF 2010              13\n",
       "Hardware Battlefield 2016    12\n",
       "Hardware Battlefield 2014    12\n",
       "Disrupt London 2015          11\n",
       "Disrupt NYC 2010             10\n",
       "Hardware Battlefield 2015    10\n",
       "Disrupt EU 2014              10\n",
       "Disrupt London 2016          10\n",
       "Disrupt EU 2013               9\n",
       "-                             6\n",
       "Disrupt Beijing 2011          4\n",
       "Name: Event, dtype: int64"
      ]
     },
     "execution_count": 81,
     "metadata": {},
     "output_type": "execute_result"
    }
   ],
   "source": [
    "new_compdata.Event.value_counts()"
   ]
  },
  {
   "cell_type": "markdown",
   "metadata": {},
   "source": [
    "# Select only the Event that has disrupt keyword from 2013 onwards."
   ]
  },
  {
   "cell_type": "code",
   "execution_count": 82,
   "metadata": {},
   "outputs": [
    {
     "data": {
      "text/plain": [
       "Disrupt NY 2015         21\n",
       "Disrupt NYC 2013        19\n",
       "Disrupt SF 2011         19\n",
       "Disrupt SF 2015         19\n",
       "Disrupt SF 2013         19\n",
       "Disrupt NYC 2012        19\n",
       "Disrupt SF 2014         19\n",
       "Disrupt SF 2016         17\n",
       "Disrupt NY 2016         16\n",
       "Disrupt SF 2012         15\n",
       "Disrupt NYC 2011        15\n",
       "Disrupt NYC 2014        15\n",
       "Disrupt SF 2010         13\n",
       "Disrupt London 2015     11\n",
       "Disrupt EU 2014         10\n",
       "Disrupt NYC 2010        10\n",
       "Disrupt London 2016     10\n",
       "Disrupt EU 2013          9\n",
       "Disrupt Beijing 2011     4\n",
       "Name: Event, dtype: int64"
      ]
     },
     "execution_count": 82,
     "metadata": {},
     "output_type": "execute_result"
    }
   ],
   "source": [
    "#option = ['Disrupt']    \n",
    "#res_event = new_compdata[(new_compdata['Event'].isin(option))]\n",
    "\n",
    "#print(res_event)\n",
    "\n",
    "#compdata[\"Funding_in_millions\"] = compdata.apply(lambda row: row[\"Funding_in_millions\"]/1000 \n",
    "#                                                                 if(row[\"Value\"]==\"K\") \n",
    "#                                                 else row[\"Funding_in_millions\"]*1000 if(row[\"Value\"]==\"B\") else row[\"Funding_in_millions\"]\n",
    "#                                                , axis=1)\n",
    "            \n",
    "new_compdata[new_compdata.Event.apply(lambda x: 'Disrupt' in x)].Event.value_counts()"
   ]
  },
  {
   "cell_type": "code",
   "execution_count": 83,
   "metadata": {},
   "outputs": [
    {
     "data": {
      "text/plain": [
       "1               Disrupt NYC 2013\n",
       "3                Disrupt NY 2016\n",
       "5                      TC50 2009\n",
       "10     Hardware Battlefield 2014\n",
       "11                     TC50 2008\n",
       "                 ...            \n",
       "645                    TC40 2007\n",
       "646          Disrupt London 2015\n",
       "657                    TC40 2007\n",
       "658                            -\n",
       "660              Disrupt SF 2013\n",
       "Name: Event, Length: 386, dtype: object"
      ]
     },
     "execution_count": 83,
     "metadata": {},
     "output_type": "execute_result"
    }
   ],
   "source": [
    "new_compdata['Event']"
   ]
  },
  {
   "cell_type": "code",
   "execution_count": 84,
   "metadata": {},
   "outputs": [
    {
     "name": "stdout",
     "output_type": "stream",
     "text": [
      "1         Disrupt NYC 2013\n",
      "3          Disrupt NY 2016\n",
      "13         Disrupt SF 2015\n",
      "14     Disrupt London 2016\n",
      "16         Disrupt SF 2015\n",
      "              ...         \n",
      "635        Disrupt NY 2015\n",
      "641       Disrupt NYC 2013\n",
      "642        Disrupt SF 2014\n",
      "646    Disrupt London 2015\n",
      "660        Disrupt SF 2013\n",
      "Name: Event, Length: 185, dtype: object\n"
     ]
    }
   ],
   "source": [
    "total_events = new_compdata[new_compdata.Event.apply(lambda x: 'Disrupt' in x and int(x[-4:]) > 2012)].Event\n",
    "print(total_events)"
   ]
  },
  {
   "cell_type": "code",
   "execution_count": 85,
   "metadata": {},
   "outputs": [
    {
     "name": "stdout",
     "output_type": "stream",
     "text": [
      "71 74 19\n",
      "1       0.6300\n",
      "3       1.0000\n",
      "18     12.2000\n",
      "51      0.5200\n",
      "55      0.0200\n",
      "        ...   \n",
      "626    10.0000\n",
      "629     0.0857\n",
      "633     2.5000\n",
      "635     0.0500\n",
      "641    15.8000\n",
      "Name: Funding_in_millions, Length: 71, dtype: float64\n"
     ]
    }
   ],
   "source": [
    "#NY_events = new_compdata.loc[total_events[total_events.apply(lambda x: 'NY' in x)].index, 'Funding']\n",
    "NY_events = new_compdata.loc[total_events[total_events.apply(lambda x: 'NY' in x)].index,'Funding_in_millions']\n",
    "\n",
    "SF_events = new_compdata.loc[total_events[total_events.apply(lambda x: 'SF' in x)].index,'Funding_in_millions']\n",
    "EU_events = new_compdata.loc[total_events[total_events.apply(lambda x: 'EU' in x)].index,'Funding_in_millions']\n",
    "print(len(NY_events), len(SF_events), len(EU_events))\n",
    "print(NY_events)"
   ]
  },
  {
   "cell_type": "markdown",
   "metadata": {},
   "source": [
    "# Write and perform your hypothesis along with significance test comparing the funds raised by companies across NY, SF and EU events from 2013 onwards."
   ]
  },
  {
   "cell_type": "markdown",
   "metadata": {},
   "source": [
    "Null Hypothesis : Average funds raised by the companies across the three locations are same\n",
    "\n",
    "Alternate Hypothesis : Average funds raised by the companies across the three locations are significantly different\n",
    "    \n",
    "\n",
    "Since this involves more than 2 samples we go for ANOVA test"
   ]
  },
  {
   "cell_type": "code",
   "execution_count": 86,
   "metadata": {},
   "outputs": [
    {
     "name": "stdout",
     "output_type": "stream",
     "text": [
      "p_value--> 0.6306082074707854\n",
      "The difference is not significant and,we fail to reject the null hypothesis\n"
     ]
    }
   ],
   "source": [
    "#import scipy.stats as stats\n",
    "\n",
    "from scipy.stats import f_oneway\n",
    "\n",
    "\n",
    "stats, p_value = f_oneway(NY_events, SF_events, EU_events)\n",
    "alpha = 0.05\n",
    "\n",
    "print('p_value-->',p_value)\n",
    "\n",
    "if p_value <= alpha:\n",
    "    print('The difference is significant and we reject the Null hypothesis')\n",
    "else:\n",
    "    print('The difference is not significant and,we fail to reject the null hypothesis''')"
   ]
  },
  {
   "cell_type": "markdown",
   "metadata": {},
   "source": [
    "# Plot the distribution plot comparing the 3 city events.\n"
   ]
  },
  {
   "cell_type": "code",
   "execution_count": 87,
   "metadata": {},
   "outputs": [
    {
     "name": "stderr",
     "output_type": "stream",
     "text": [
      "D:\\Anaconda\\lib\\site-packages\\seaborn\\distributions.py:2551: FutureWarning: `distplot` is a deprecated function and will be removed in a future version. Please adapt your code to use either `displot` (a figure-level function with similar flexibility) or `histplot` (an axes-level function for histograms).\n",
      "  warnings.warn(msg, FutureWarning)\n",
      "D:\\Anaconda\\lib\\site-packages\\seaborn\\distributions.py:2551: FutureWarning: `distplot` is a deprecated function and will be removed in a future version. Please adapt your code to use either `displot` (a figure-level function with similar flexibility) or `histplot` (an axes-level function for histograms).\n",
      "  warnings.warn(msg, FutureWarning)\n",
      "D:\\Anaconda\\lib\\site-packages\\seaborn\\distributions.py:2551: FutureWarning: `distplot` is a deprecated function and will be removed in a future version. Please adapt your code to use either `displot` (a figure-level function with similar flexibility) or `histplot` (an axes-level function for histograms).\n",
      "  warnings.warn(msg, FutureWarning)\n"
     ]
    },
    {
     "data": {
      "text/plain": [
       "<AxesSubplot:xlabel='Funding_in_millions', ylabel='Density'>"
      ]
     },
     "execution_count": 87,
     "metadata": {},
     "output_type": "execute_result"
    },
    {
     "data": {
      "image/png": "[encoded data removed]",
      "text/plain": [
       "<Figure size 432x288 with 1 Axes>"
      ]
     },
     "metadata": {
      "needs_background": "light"
     },
     "output_type": "display_data"
    }
   ],
   "source": [
    "sns.distplot(NY_events, color = 'Red', label = 'NY')\n",
    "sns.distplot(SF_events, color = 'Green', label = 'SF')\n",
    "sns.distplot(EU_events, color = 'blue', label = 'EU')\n"
   ]
  },
  {
   "cell_type": "markdown",
   "metadata": {},
   "source": [
    "We can see that almost the three cities have the same Mode and its right-skewed data."
   ]
  },
  {
   "cell_type": "markdown",
   "metadata": {},
   "source": [
    "# Summary of findings from analysis"
   ]
  },
  {
   "cell_type": "markdown",
   "metadata": {},
   "source": [
    "Findings:\n",
    "\n",
    "    - The amount of funds raised by a company doesnt seem to be a strong factor to decide if the company is still operating \n",
    "or it is in closed status.\n",
    "\n",
    "    - We find no evidence to state that the companies that have raised more money tend to suceed more or vice-versa\n",
    "    \n",
    "    - Average funds raised by the companies across the three states are same\n",
    "  \n",
    "             \n",
    "Improvements and Suggestions:\n",
    "    \n",
    "    - Reason for companies got closed can be shared for better understanding\n",
    "    \n",
    "    - Product developed by the companies could have been shared so that we could analyse if products are out of market etc\n",
    "    \n",
    "    - Geographical locations of companies could have been provided for further analysis on operating conditions of companies.\n",
    "        \n"
   ]
  },
  {
   "cell_type": "code",
   "execution_count": null,
   "metadata": {},
   "outputs": [],
   "source": []
  }
 ],
 "metadata": {
  "kernelspec": {
   "display_name": "Python 3",
   "language": "python",
   "name": "python3"
  },
  "language_info": {
   "codemirror_mode": {
    "name": "ipython",
    "version": 3
   },
   "file_extension": ".py",
   "mimetype": "text/x-python",
   "name": "python",
   "nbconvert_exporter": "python",
   "pygments_lexer": "ipython3",
   "version": "3.8.5"
  }
 },
 "nbformat": 4,
 "nbformat_minor": 4
}
