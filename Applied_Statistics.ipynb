{
 "cells": [
  {
   "cell_type": "markdown",
   "metadata": {},
   "source": [
    "Question 1:\n",
    "\n",
    "Please refer the table below to answer below questions:\n",
    " \n",
    "1. Refer to the above table and find the joint probability of the people who planned to purchase and actually\n",
    "placed an order.\n",
    "2. Refer to the above table and find the joint probability of the people who planned to purchase and actually\n",
    "placed an order, given that people planned to purchase."
   ]
  },
  {
   "cell_type": "code",
   "execution_count": 1,
   "metadata": {},
   "outputs": [
    {
     "name": "stdout",
     "output_type": "stream",
     "text": [
      "Joint probablility of the ppl who planned to purchase and actually placed an order is : 0.2\n"
     ]
    }
   ],
   "source": [
    "# Finding the joint probability of the people who planned to purchase and actually placed an order\n",
    "\n",
    "Tot_planned_purchased = 400\n",
    "Tot_population = 2000\n",
    "jp1 = Tot_planned_purchased/Tot_population\n",
    "print('Joint probablility of the ppl who planned to purchase and actually placed an order is :', jp1)\n"
   ]
  },
  {
   "cell_type": "code",
   "execution_count": 2,
   "metadata": {},
   "outputs": [
    {
     "name": "stdout",
     "output_type": "stream",
     "text": [
      "Joint probability of the ppl who planned to purchase and actually placed an order given that ppl planned to purchase 0.8\n"
     ]
    }
   ],
   "source": [
    "# Finding the joint probability of the people who planned to purchase and actually\n",
    "# placed an order, given that people planned to purchase.\n",
    "\n",
    "Tot_planned_purchased = 400\n",
    "Tot_People_planned_to_purchase = 500\n",
    "jp2 = Tot_planned_purchased/Tot_People_planned_to_purchase\n",
    "print('Joint probability of the ppl who planned to purchase and actually placed an order given that ppl planned to purchase',jp2)"
   ]
  },
  {
   "cell_type": "markdown",
   "metadata": {},
   "source": [
    "Question 2:\n",
    "\n",
    "An electrical manufacturing company conducts quality checks at specified periods on the\n",
    "products it manufactures. Historically, the failure rate for the manufactured item is 5%. Suppose a random\n",
    "sample of 10 manufactured items is selected. Answer the following questions.\n",
    "A. Probability that none of the items are defective?\n",
    "B. Probability that exactly one of the items is defective?\n",
    "C. Probability that two or fewer of the items are defective?\n",
    "D. Probability that three or more of the items are defective ?"
   ]
  },
  {
   "cell_type": "code",
   "execution_count": 3,
   "metadata": {},
   "outputs": [],
   "source": [
    "import numpy             as np\n",
    "import pandas            as pd\n",
    "import scipy.stats       as stats\n",
    "import matplotlib.pyplot as plt"
   ]
  },
  {
   "cell_type": "code",
   "execution_count": 4,
   "metadata": {},
   "outputs": [
    {
     "name": "stdout",
     "output_type": "stream",
     "text": [
      "[5.98736939e-01 3.15124705e-01 7.46347985e-02 1.04750594e-02\n",
      " 9.64808106e-04 6.09352488e-05 2.67259863e-06 8.03789063e-08\n",
      " 1.58642578e-09 1.85546875e-11 9.76562500e-14]\n"
     ]
    }
   ],
   "source": [
    "# A) Probability that none of the items are defective\n",
    "\n",
    "# failure probability rate, p\n",
    "p = 0.05\n",
    "# sample size , n\n",
    "n = 10\n",
    "k=np.arange (0,11)\n",
    "\n",
    "binomial =stats.binom.pmf(k,n,p)\n",
    "print(binomial)"
   ]
  },
  {
   "cell_type": "code",
   "execution_count": 6,
   "metadata": {},
   "outputs": [
    {
     "name": "stdout",
     "output_type": "stream",
     "text": [
      "Probability that none of the items are defective : 0.5987369392383789\n"
     ]
    }
   ],
   "source": [
    "print('Probability that none of the items are defective :',binomial[0])"
   ]
  },
  {
   "cell_type": "code",
   "execution_count": 7,
   "metadata": {},
   "outputs": [
    {
     "name": "stdout",
     "output_type": "stream",
     "text": [
      "Probability that exactly one of the items is defective 0.31512470486230504\n"
     ]
    }
   ],
   "source": [
    "# B. Probability that exactly one of the items is defective?\n",
    "\n",
    "print('Probability that exactly one of the items is defective',binomial[1])"
   ]
  },
  {
   "cell_type": "code",
   "execution_count": 9,
   "metadata": {},
   "outputs": [
    {
     "name": "stdout",
     "output_type": "stream",
     "text": [
      "[0.59873694 0.91386164 0.98849644 0.9989715  0.99993631 0.99999725\n",
      " 0.99999992 1.         1.         1.         1.        ]\n",
      "Probability that two or fewer of the items are defective 0.9884964426207031\n"
     ]
    }
   ],
   "source": [
    "# C. Probability that two or fewer of the items are defective?\n",
    "cumbinomial = stats.binom.cdf(k,n,p)\n",
    "print(cumbinomial)\n",
    "\n",
    "print('Probability that two or fewer of the items are defective',cumbinomial[2])\n"
   ]
  },
  {
   "cell_type": "code",
   "execution_count": 10,
   "metadata": {},
   "outputs": [
    {
     "name": "stdout",
     "output_type": "stream",
     "text": [
      "Probability that three or more of the items are defective ? 0.01150355737929687\n"
     ]
    }
   ],
   "source": [
    "# D. Probability that three or more of the items are defective ?\n",
    "\n",
    "print('Probability that three or more of the items are defective ?', 1-cumbinomial[2])"
   ]
  },
  {
   "cell_type": "markdown",
   "metadata": {},
   "source": [
    "Question 3:\n",
    "\n",
    "A car salesman sells on an average 3 cars per week.\n",
    "A. Probability that in a given week he will sell some cars.\n",
    "B. Probability that in a given week he will sell 2 or more but less than 5 cars.\n",
    "C. Plot the poisson distribution function for cumulative probability of cars sold per-week vs number of cars sold perweek."
   ]
  },
  {
   "cell_type": "code",
   "execution_count": 11,
   "metadata": {},
   "outputs": [
    {
     "name": "stdout",
     "output_type": "stream",
     "text": [
      "[0.04978707 0.19914827 0.42319008 0.64723189 0.81526324 0.91608206\n",
      " 0.96649146 0.9880955  0.99619701 0.99889751 0.99970766 0.99992861\n",
      " 0.99998385 0.9999966  0.99999933 0.99999988]\n",
      "Probability that in a given week he will sell some cars : 0.950212931632136\n",
      "Probability that in a given week he will sell 2 or more but less than 5 cars 0.6161149710523164\n"
     ]
    }
   ],
   "source": [
    "avg_sale = 3 # mean value\n",
    "n    =  np.arange(0,16)\n",
    "cumpoisson = stats.poisson.cdf(n,avg_sale)\n",
    "print(cumpoisson)\n",
    "\n",
    "# A ) Probability that in a given week he will sell some cars.\n",
    "\n",
    "prob_selling = 1-cumpoisson[0]\n",
    "\n",
    "print('Probability that in a given week he will sell some cars :',prob_selling)\n",
    "\n",
    "# B) Probability that in a given week he will sell 2 or more but less than 5 cars.\n",
    "\n",
    "# cumpoisson[4]--> gives probability of selling more than 4 cars\n",
    "# cumpoisson[1]--> gives probability of selling less than 1 car\n",
    "\n",
    "prob_sell_2to5 = cumpoisson[4]-cumpoisson[1]\n",
    "print('Probability that in a given week he will sell 2 or more but less than 5 cars',prob_sell_2to5)\n",
    "\n"
   ]
  },
  {
   "cell_type": "code",
   "execution_count": 13,
   "metadata": {},
   "outputs": [
    {
     "data": {
      "image/png": "[encoded data removed]",
      "text/plain": [
       "<Figure size 432x288 with 1 Axes>"
      ]
     },
     "metadata": {
      "needs_background": "light"
     },
     "output_type": "display_data"
    }
   ],
   "source": [
    "# C. Plot the poisson distribution function for cumulative probability of cars sold per-week vs number of cars sold perweek.\n",
    "\n",
    "poisson = stats.poisson.pmf(n,avg_sale)\n",
    "plt.plot(n,poisson, 'o-')\n",
    "plt.title('Poisson')\n",
    "plt.xlabel('Number of Cars sold per week')\n",
    "plt.ylabel('Cum_probaility of Cars sold per week')\n",
    "plt.show()"
   ]
  },
  {
   "cell_type": "markdown",
   "metadata": {},
   "source": [
    "Question 4:\n",
    "\n",
    "Accuracy in understanding orders for a speech based bot at a restaurant is important for the\n",
    "Company X which has designed, marketed and launched the product for a contactless delivery due to the\n",
    "COVID-19 pandemic. Recognition accuracy that measures the percentage of orders that are taken correctly is\n",
    "86.8%. Suppose that you place order with the bot and two friends of yours independently place orders with\n",
    "the same bot. Answer the following questions.\n",
    "A. What is the probability that all three orders will be recognised correctly?\n",
    "B. What is the probability that none of the three orders will be recognised correctly?\n",
    "C. What is the probability that at least two of the three orders will be recognised correctly"
   ]
  },
  {
   "cell_type": "code",
   "execution_count": 15,
   "metadata": {},
   "outputs": [
    {
     "name": "stdout",
     "output_type": "stream",
     "text": [
      "Probability that all three orders will be recognised correctly:  0.653972032\n",
      "Probability that none of the three orders will be recognised correctly:  0.002299968\n",
      "Probability that at least two orders will be recognised correctly:  0.9523279359999999\n"
     ]
    }
   ],
   "source": [
    "# failure probability rate, p\n",
    "p = 0.868\n",
    "# sample size , n\n",
    "n = 3\n",
    "k = 3\n",
    "\n",
    "# A. What is the probability that all three orders will be recognised correctly?\n",
    "binomial = stats.binom.pmf(3,3,0.868)\n",
    "print('Probability that all three orders will be recognised correctly: ', binomial)\n",
    "\n",
    "# B. What is the probability that none of the three orders will be recognised correctly?\n",
    "\n",
    "prob_B = stats.binom.pmf(0,3,0.868)\n",
    "print('Probability that none of the three orders will be recognised correctly: ',prob_B) \n",
    "\n",
    "\n",
    "# C. What is the probability that at least two of the three orders will be recognised correctly\n",
    "prob_at_least_two_orders = stats.binom.pmf(3,3,0.868)+stats.binom.pmf(2,3,0.868)\n",
    "print('Probability that at least two orders will be recognised correctly: ',prob_at_least_two_orders)\n",
    "\n"
   ]
  },
  {
   "cell_type": "markdown",
   "metadata": {},
   "source": [
    "Question 5:\n",
    "\n",
    "A group of 300 professionals sat for a competitive exam. The results show the information of\n",
    "marks obtained by them have a mean of 60 and a standard deviation of 12. The pattern of marks follows a\n",
    "normal distribution. Answer the following questions.\n",
    "A. What is the percentage of students who score more than 80.\n",
    "B. What is the percentage of students who score less than 50.\n",
    "C. What should be the distinction mark if the highest 10% of students are to be awarded distinction?"
   ]
  },
  {
   "cell_type": "code",
   "execution_count": 19,
   "metadata": {},
   "outputs": [
    {
     "name": "stdout",
     "output_type": "stream",
     "text": [
      "0.047790352272814696\n",
      "Percentage of students scoring more than 80: 4.77903522728147\n"
     ]
    }
   ],
   "source": [
    "mean = 60\n",
    "std_dev = 12\n",
    "\n",
    "# A)What is the percentage of students who score more than 80.\n",
    "\n",
    "z = (80-mean)/std_dev\n",
    "a = 1- stats.norm.cdf(z)\n",
    "\n",
    "print(a)\n",
    "\n",
    "print(\"Percentage of students scoring more than 80:\", a*100)"
   ]
  },
  {
   "cell_type": "code",
   "execution_count": 21,
   "metadata": {},
   "outputs": [
    {
     "name": "stdout",
     "output_type": "stream",
     "text": [
      "0.20232838096364308\n",
      "Percentage of students scoring less than 50: 20.232838096364308\n"
     ]
    }
   ],
   "source": [
    "# B. What is the percentage of students who score less than 50.\n",
    "\n",
    "z = (50-mean)/std_dev\n",
    "a = stats.norm.cdf(z)\n",
    "\n",
    "print(a)\n",
    "\n",
    "print(\"Percentage of students scoring less than 50:\", a*100)"
   ]
  },
  {
   "cell_type": "code",
   "execution_count": null,
   "metadata": {},
   "outputs": [],
   "source": [
    "# C. What should be the distinction mark if the highest 10% of students are to be awarded distinction?\n",
    "\n",
    "Z = (x-60)/12. \n",
    "\n",
    "We have to find the marks that makes z percentage to be in highest of 10.\n",
    "we have to find the value of Z that makes it to be 0.40.The Z value that will make the area = 0.40 is = 1.28. \n",
    "Hence (x-60)/12 = 1.28 \n",
    "Simplifying, x= 75.36 This is the distinction mark that will be scored by 10% of the students."
   ]
  },
  {
   "cell_type": "markdown",
   "metadata": {},
   "source": [
    "Question 6:\n",
    "\n",
    "Explain 1 real life industry scenario [other than the ones mentioned above] where you can use the\n",
    "concepts learnt in this module of Applied statistics to get a data driven business solution."
   ]
  },
  {
   "cell_type": "code",
   "execution_count": null,
   "metadata": {},
   "outputs": [],
   "source": [
    "Consider the online food chain like Swiggy. Suppose it they want to increase the sales during the lockdown period.\n",
    "To achieve this , they can do a study on most frequently ordered restaurant, food choice made by customers, location proximity ,\n",
    "offers applied, priveleged customer concept etc.\n",
    "\n",
    "Once the study is done with the data available , they can formulate process that boosts the sale !"
   ]
  }
 ],
 "metadata": {
  "kernelspec": {
   "display_name": "Python 3",
   "language": "python",
   "name": "python3"
  },
  "language_info": {
   "codemirror_mode": {
    "name": "ipython",
    "version": 3
   },
   "file_extension": ".py",
   "mimetype": "text/x-python",
   "name": "python",
   "nbconvert_exporter": "python",
   "pygments_lexer": "ipython3",
   "version": "3.8.5"
  }
 },
 "nbformat": 4,
 "nbformat_minor": 4
}
